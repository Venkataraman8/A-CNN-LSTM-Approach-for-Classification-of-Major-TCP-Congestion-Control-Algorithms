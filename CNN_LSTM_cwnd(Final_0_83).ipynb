{
  "nbformat": 4,
  "nbformat_minor": 0,
  "metadata": {
    "colab": {
      "name": "CNN-LSTM_cwnd(Final: 0.83).ipynb",
      "provenance": []
    },
    "kernelspec": {
      "name": "python3",
      "display_name": "Python 3"
    },
    "language_info": {
      "name": "python"
    }
  },
  "cells": [
    {
      "cell_type": "markdown",
      "metadata": {
        "id": "IlHhO3wQ5Xft"
      },
      "source": [
        "# **CNN-LSTM for cwnd 3 Algos**"
      ]
    },
    {
      "cell_type": "markdown",
      "metadata": {
        "id": "jRmxueQ25jl3"
      },
      "source": [
        "**Importing necessary packages, modules**\n"
      ]
    },
    {
      "cell_type": "code",
      "metadata": {
        "id": "064MVxfR5NWT"
      },
      "source": [
        "# cnn lstm model\n",
        "from numpy import mean\n",
        "from numpy import std\n",
        "from numpy import dstack\n",
        "from pandas import read_csv\n",
        "from keras.models import Sequential\n",
        "from keras.layers import Dense\n",
        "from keras.layers import Flatten\n",
        "from keras.layers import Dropout\n",
        "from keras.layers import LSTM\n",
        "from keras.layers import TimeDistributed\n",
        "from keras.layers.convolutional import Conv1D\n",
        "from keras.layers.convolutional import MaxPooling1D\n",
        "from matplotlib import pyplot\n",
        "\n",
        "import pandas as pd\n",
        "import numpy as np\n",
        "import re\n",
        "\n",
        "import matplotlib.pyplot as plt\n",
        "import io\n"
      ],
      "execution_count": 2,
      "outputs": []
    },
    {
      "cell_type": "markdown",
      "metadata": {
        "id": "gu-sBd1N5mJ-"
      },
      "source": [
        "**Getting dataset : x_array, y_array (from file)**"
      ]
    },
    {
      "cell_type": "code",
      "metadata": {
        "colab": {
          "resources": {
            "http://localhost:8080/nbextensions/google.colab/files.js": {
              "data": "Ly8gQ29weXJpZ2h0IDIwMTcgR29vZ2xlIExMQwovLwovLyBMaWNlbnNlZCB1bmRlciB0aGUgQXBhY2hlIExpY2Vuc2UsIFZlcnNpb24gMi4wICh0aGUgIkxpY2Vuc2UiKTsKLy8geW91IG1heSBub3QgdXNlIHRoaXMgZmlsZSBleGNlcHQgaW4gY29tcGxpYW5jZSB3aXRoIHRoZSBMaWNlbnNlLgovLyBZb3UgbWF5IG9idGFpbiBhIGNvcHkgb2YgdGhlIExpY2Vuc2UgYXQKLy8KLy8gICAgICBodHRwOi8vd3d3LmFwYWNoZS5vcmcvbGljZW5zZXMvTElDRU5TRS0yLjAKLy8KLy8gVW5sZXNzIHJlcXVpcmVkIGJ5IGFwcGxpY2FibGUgbGF3IG9yIGFncmVlZCB0byBpbiB3cml0aW5nLCBzb2Z0d2FyZQovLyBkaXN0cmlidXRlZCB1bmRlciB0aGUgTGljZW5zZSBpcyBkaXN0cmlidXRlZCBvbiBhbiAiQVMgSVMiIEJBU0lTLAovLyBXSVRIT1VUIFdBUlJBTlRJRVMgT1IgQ09ORElUSU9OUyBPRiBBTlkgS0lORCwgZWl0aGVyIGV4cHJlc3Mgb3IgaW1wbGllZC4KLy8gU2VlIHRoZSBMaWNlbnNlIGZvciB0aGUgc3BlY2lmaWMgbGFuZ3VhZ2UgZ292ZXJuaW5nIHBlcm1pc3Npb25zIGFuZAovLyBsaW1pdGF0aW9ucyB1bmRlciB0aGUgTGljZW5zZS4KCi8qKgogKiBAZmlsZW92ZXJ2aWV3IEhlbHBlcnMgZm9yIGdvb2dsZS5jb2xhYiBQeXRob24gbW9kdWxlLgogKi8KKGZ1bmN0aW9uKHNjb3BlKSB7CmZ1bmN0aW9uIHNwYW4odGV4dCwgc3R5bGVBdHRyaWJ1dGVzID0ge30pIHsKICBjb25zdCBlbGVtZW50ID0gZG9jdW1lbnQuY3JlYXRlRWxlbWVudCgnc3BhbicpOwogIGVsZW1lbnQudGV4dENvbnRlbnQgPSB0ZXh0OwogIGZvciAoY29uc3Qga2V5IG9mIE9iamVjdC5rZXlzKHN0eWxlQXR0cmlidXRlcykpIHsKICAgIGVsZW1lbnQuc3R5bGVba2V5XSA9IHN0eWxlQXR0cmlidXRlc1trZXldOwogIH0KICByZXR1cm4gZWxlbWVudDsKfQoKLy8gTWF4IG51bWJlciBvZiBieXRlcyB3aGljaCB3aWxsIGJlIHVwbG9hZGVkIGF0IGEgdGltZS4KY29uc3QgTUFYX1BBWUxPQURfU0laRSA9IDEwMCAqIDEwMjQ7CgpmdW5jdGlvbiBfdXBsb2FkRmlsZXMoaW5wdXRJZCwgb3V0cHV0SWQpIHsKICBjb25zdCBzdGVwcyA9IHVwbG9hZEZpbGVzU3RlcChpbnB1dElkLCBvdXRwdXRJZCk7CiAgY29uc3Qgb3V0cHV0RWxlbWVudCA9IGRvY3VtZW50LmdldEVsZW1lbnRCeUlkKG91dHB1dElkKTsKICAvLyBDYWNoZSBzdGVwcyBvbiB0aGUgb3V0cHV0RWxlbWVudCB0byBtYWtlIGl0IGF2YWlsYWJsZSBmb3IgdGhlIG5leHQgY2FsbAogIC8vIHRvIHVwbG9hZEZpbGVzQ29udGludWUgZnJvbSBQeXRob24uCiAgb3V0cHV0RWxlbWVudC5zdGVwcyA9IHN0ZXBzOwoKICByZXR1cm4gX3VwbG9hZEZpbGVzQ29udGludWUob3V0cHV0SWQpOwp9CgovLyBUaGlzIGlzIHJvdWdobHkgYW4gYXN5bmMgZ2VuZXJhdG9yIChub3Qgc3VwcG9ydGVkIGluIHRoZSBicm93c2VyIHlldCksCi8vIHdoZXJlIHRoZXJlIGFyZSBtdWx0aXBsZSBhc3luY2hyb25vdXMgc3RlcHMgYW5kIHRoZSBQeXRob24gc2lkZSBpcyBnb2luZwovLyB0byBwb2xsIGZvciBjb21wbGV0aW9uIG9mIGVhY2ggc3RlcC4KLy8gVGhpcyB1c2VzIGEgUHJvbWlzZSB0byBibG9jayB0aGUgcHl0aG9uIHNpZGUgb24gY29tcGxldGlvbiBvZiBlYWNoIHN0ZXAsCi8vIHRoZW4gcGFzc2VzIHRoZSByZXN1bHQgb2YgdGhlIHByZXZpb3VzIHN0ZXAgYXMgdGhlIGlucHV0IHRvIHRoZSBuZXh0IHN0ZXAuCmZ1bmN0aW9uIF91cGxvYWRGaWxlc0NvbnRpbnVlKG91dHB1dElkKSB7CiAgY29uc3Qgb3V0cHV0RWxlbWVudCA9IGRvY3VtZW50LmdldEVsZW1lbnRCeUlkKG91dHB1dElkKTsKICBjb25zdCBzdGVwcyA9IG91dHB1dEVsZW1lbnQuc3RlcHM7CgogIGNvbnN0IG5leHQgPSBzdGVwcy5uZXh0KG91dHB1dEVsZW1lbnQubGFzdFByb21pc2VWYWx1ZSk7CiAgcmV0dXJuIFByb21pc2UucmVzb2x2ZShuZXh0LnZhbHVlLnByb21pc2UpLnRoZW4oKHZhbHVlKSA9PiB7CiAgICAvLyBDYWNoZSB0aGUgbGFzdCBwcm9taXNlIHZhbHVlIHRvIG1ha2UgaXQgYXZhaWxhYmxlIHRvIHRoZSBuZXh0CiAgICAvLyBzdGVwIG9mIHRoZSBnZW5lcmF0b3IuCiAgICBvdXRwdXRFbGVtZW50Lmxhc3RQcm9taXNlVmFsdWUgPSB2YWx1ZTsKICAgIHJldHVybiBuZXh0LnZhbHVlLnJlc3BvbnNlOwogIH0pOwp9CgovKioKICogR2VuZXJhdG9yIGZ1bmN0aW9uIHdoaWNoIGlzIGNhbGxlZCBiZXR3ZWVuIGVhY2ggYXN5bmMgc3RlcCBvZiB0aGUgdXBsb2FkCiAqIHByb2Nlc3MuCiAqIEBwYXJhbSB7c3RyaW5nfSBpbnB1dElkIEVsZW1lbnQgSUQgb2YgdGhlIGlucHV0IGZpbGUgcGlja2VyIGVsZW1lbnQuCiAqIEBwYXJhbSB7c3RyaW5nfSBvdXRwdXRJZCBFbGVtZW50IElEIG9mIHRoZSBvdXRwdXQgZGlzcGxheS4KICogQHJldHVybiB7IUl0ZXJhYmxlPCFPYmplY3Q+fSBJdGVyYWJsZSBvZiBuZXh0IHN0ZXBzLgogKi8KZnVuY3Rpb24qIHVwbG9hZEZpbGVzU3RlcChpbnB1dElkLCBvdXRwdXRJZCkgewogIGNvbnN0IGlucHV0RWxlbWVudCA9IGRvY3VtZW50LmdldEVsZW1lbnRCeUlkKGlucHV0SWQpOwogIGlucHV0RWxlbWVudC5kaXNhYmxlZCA9IGZhbHNlOwoKICBjb25zdCBvdXRwdXRFbGVtZW50ID0gZG9jdW1lbnQuZ2V0RWxlbWVudEJ5SWQob3V0cHV0SWQpOwogIG91dHB1dEVsZW1lbnQuaW5uZXJIVE1MID0gJyc7CgogIGNvbnN0IHBpY2tlZFByb21pc2UgPSBuZXcgUHJvbWlzZSgocmVzb2x2ZSkgPT4gewogICAgaW5wdXRFbGVtZW50LmFkZEV2ZW50TGlzdGVuZXIoJ2NoYW5nZScsIChlKSA9PiB7CiAgICAgIHJlc29sdmUoZS50YXJnZXQuZmlsZXMpOwogICAgfSk7CiAgfSk7CgogIGNvbnN0IGNhbmNlbCA9IGRvY3VtZW50LmNyZWF0ZUVsZW1lbnQoJ2J1dHRvbicpOwogIGlucHV0RWxlbWVudC5wYXJlbnRFbGVtZW50LmFwcGVuZENoaWxkKGNhbmNlbCk7CiAgY2FuY2VsLnRleHRDb250ZW50ID0gJ0NhbmNlbCB1cGxvYWQnOwogIGNvbnN0IGNhbmNlbFByb21pc2UgPSBuZXcgUHJvbWlzZSgocmVzb2x2ZSkgPT4gewogICAgY2FuY2VsLm9uY2xpY2sgPSAoKSA9PiB7CiAgICAgIHJlc29sdmUobnVsbCk7CiAgICB9OwogIH0pOwoKICAvLyBXYWl0IGZvciB0aGUgdXNlciB0byBwaWNrIHRoZSBmaWxlcy4KICBjb25zdCBmaWxlcyA9IHlpZWxkIHsKICAgIHByb21pc2U6IFByb21pc2UucmFjZShbcGlja2VkUHJvbWlzZSwgY2FuY2VsUHJvbWlzZV0pLAogICAgcmVzcG9uc2U6IHsKICAgICAgYWN0aW9uOiAnc3RhcnRpbmcnLAogICAgfQogIH07CgogIGNhbmNlbC5yZW1vdmUoKTsKCiAgLy8gRGlzYWJsZSB0aGUgaW5wdXQgZWxlbWVudCBzaW5jZSBmdXJ0aGVyIHBpY2tzIGFyZSBub3QgYWxsb3dlZC4KICBpbnB1dEVsZW1lbnQuZGlzYWJsZWQgPSB0cnVlOwoKICBpZiAoIWZpbGVzKSB7CiAgICByZXR1cm4gewogICAgICByZXNwb25zZTogewogICAgICAgIGFjdGlvbjogJ2NvbXBsZXRlJywKICAgICAgfQogICAgfTsKICB9CgogIGZvciAoY29uc3QgZmlsZSBvZiBmaWxlcykgewogICAgY29uc3QgbGkgPSBkb2N1bWVudC5jcmVhdGVFbGVtZW50KCdsaScpOwogICAgbGkuYXBwZW5kKHNwYW4oZmlsZS5uYW1lLCB7Zm9udFdlaWdodDogJ2JvbGQnfSkpOwogICAgbGkuYXBwZW5kKHNwYW4oCiAgICAgICAgYCgke2ZpbGUudHlwZSB8fCAnbi9hJ30pIC0gJHtmaWxlLnNpemV9IGJ5dGVzLCBgICsKICAgICAgICBgbGFzdCBtb2RpZmllZDogJHsKICAgICAgICAgICAgZmlsZS5sYXN0TW9kaWZpZWREYXRlID8gZmlsZS5sYXN0TW9kaWZpZWREYXRlLnRvTG9jYWxlRGF0ZVN0cmluZygpIDoKICAgICAgICAgICAgICAgICAgICAgICAgICAgICAgICAgICAgJ24vYSd9IC0gYCkpOwogICAgY29uc3QgcGVyY2VudCA9IHNwYW4oJzAlIGRvbmUnKTsKICAgIGxpLmFwcGVuZENoaWxkKHBlcmNlbnQpOwoKICAgIG91dHB1dEVsZW1lbnQuYXBwZW5kQ2hpbGQobGkpOwoKICAgIGNvbnN0IGZpbGVEYXRhUHJvbWlzZSA9IG5ldyBQcm9taXNlKChyZXNvbHZlKSA9PiB7CiAgICAgIGNvbnN0IHJlYWRlciA9IG5ldyBGaWxlUmVhZGVyKCk7CiAgICAgIHJlYWRlci5vbmxvYWQgPSAoZSkgPT4gewogICAgICAgIHJlc29sdmUoZS50YXJnZXQucmVzdWx0KTsKICAgICAgfTsKICAgICAgcmVhZGVyLnJlYWRBc0FycmF5QnVmZmVyKGZpbGUpOwogICAgfSk7CiAgICAvLyBXYWl0IGZvciB0aGUgZGF0YSB0byBiZSByZWFkeS4KICAgIGxldCBmaWxlRGF0YSA9IHlpZWxkIHsKICAgICAgcHJvbWlzZTogZmlsZURhdGFQcm9taXNlLAogICAgICByZXNwb25zZTogewogICAgICAgIGFjdGlvbjogJ2NvbnRpbnVlJywKICAgICAgfQogICAgfTsKCiAgICAvLyBVc2UgYSBjaHVua2VkIHNlbmRpbmcgdG8gYXZvaWQgbWVzc2FnZSBzaXplIGxpbWl0cy4gU2VlIGIvNjIxMTU2NjAuCiAgICBsZXQgcG9zaXRpb24gPSAwOwogICAgZG8gewogICAgICBjb25zdCBsZW5ndGggPSBNYXRoLm1pbihmaWxlRGF0YS5ieXRlTGVuZ3RoIC0gcG9zaXRpb24sIE1BWF9QQVlMT0FEX1NJWkUpOwogICAgICBjb25zdCBjaHVuayA9IG5ldyBVaW50OEFycmF5KGZpbGVEYXRhLCBwb3NpdGlvbiwgbGVuZ3RoKTsKICAgICAgcG9zaXRpb24gKz0gbGVuZ3RoOwoKICAgICAgY29uc3QgYmFzZTY0ID0gYnRvYShTdHJpbmcuZnJvbUNoYXJDb2RlLmFwcGx5KG51bGwsIGNodW5rKSk7CiAgICAgIHlpZWxkIHsKICAgICAgICByZXNwb25zZTogewogICAgICAgICAgYWN0aW9uOiAnYXBwZW5kJywKICAgICAgICAgIGZpbGU6IGZpbGUubmFtZSwKICAgICAgICAgIGRhdGE6IGJhc2U2NCwKICAgICAgICB9LAogICAgICB9OwoKICAgICAgbGV0IHBlcmNlbnREb25lID0gZmlsZURhdGEuYnl0ZUxlbmd0aCA9PT0gMCA/CiAgICAgICAgICAxMDAgOgogICAgICAgICAgTWF0aC5yb3VuZCgocG9zaXRpb24gLyBmaWxlRGF0YS5ieXRlTGVuZ3RoKSAqIDEwMCk7CiAgICAgIHBlcmNlbnQudGV4dENvbnRlbnQgPSBgJHtwZXJjZW50RG9uZX0lIGRvbmVgOwoKICAgIH0gd2hpbGUgKHBvc2l0aW9uIDwgZmlsZURhdGEuYnl0ZUxlbmd0aCk7CiAgfQoKICAvLyBBbGwgZG9uZS4KICB5aWVsZCB7CiAgICByZXNwb25zZTogewogICAgICBhY3Rpb246ICdjb21wbGV0ZScsCiAgICB9CiAgfTsKfQoKc2NvcGUuZ29vZ2xlID0gc2NvcGUuZ29vZ2xlIHx8IHt9OwpzY29wZS5nb29nbGUuY29sYWIgPSBzY29wZS5nb29nbGUuY29sYWIgfHwge307CnNjb3BlLmdvb2dsZS5jb2xhYi5fZmlsZXMgPSB7CiAgX3VwbG9hZEZpbGVzLAogIF91cGxvYWRGaWxlc0NvbnRpbnVlLAp9Owp9KShzZWxmKTsK",
              "ok": true,
              "headers": [
                [
                  "content-type",
                  "application/javascript"
                ]
              ],
              "status": 200,
              "status_text": ""
            }
          },
          "base_uri": "https://localhost:8080/",
          "height": 1000
        },
        "id": "-oCpufXZ5ohT",
        "outputId": "ffcd7783-d744-4f44-c842-aacffce700ec"
      },
      "source": [
        "from google.colab import files\n",
        "uploaded = files.upload()\n",
        "\n",
        "df_x = pd.read_csv(io.BytesIO(uploaded['x_dataset_full.csv']),header=None)\n",
        "data_x = df_x.values\n",
        "df_y = pd.read_csv(io.BytesIO(uploaded['y_dataset_full.csv']),header=None)\n",
        "data_y = df_y.values\n",
        "\n",
        "X = np.array(data_x).reshape(3000,128,1)\n",
        "Y = np.array(data_y)\n",
        "# Y1 = np.array(data_y1)\n",
        "# encoder = OneHotEncoder(sparse=False)\n",
        "Y = pd.get_dummies(df_y).values\n",
        "print(X)\n",
        "print(Y)"
      ],
      "execution_count": 3,
      "outputs": [
        {
          "output_type": "display_data",
          "data": {
            "text/html": [
              "\n",
              "     <input type=\"file\" id=\"files-de6d0218-ad03-4042-bc94-2a776ef0c0a5\" name=\"files[]\" multiple disabled\n",
              "        style=\"border:none\" />\n",
              "     <output id=\"result-de6d0218-ad03-4042-bc94-2a776ef0c0a5\">\n",
              "      Upload widget is only available when the cell has been executed in the\n",
              "      current browser session. Please rerun this cell to enable.\n",
              "      </output>\n",
              "      <script src=\"/nbextensions/google.colab/files.js\"></script> "
            ],
            "text/plain": [
              "<IPython.core.display.HTML object>"
            ]
          },
          "metadata": {
            "tags": []
          }
        },
        {
          "output_type": "stream",
          "text": [
            "Saving x_dataset_full.csv to x_dataset_full.csv\n",
            "Saving y_dataset_full.csv to y_dataset_full.csv\n",
            "[[[0.1       ]\n",
            "  [0.11750547]\n",
            "  [0.13369803]\n",
            "  ...\n",
            "  [0.88949672]\n",
            "  [0.89387308]\n",
            "  [0.89737418]]\n",
            "\n",
            " [[0.1       ]\n",
            "  [0.12830882]\n",
            "  [0.15082721]\n",
            "  ...\n",
            "  [0.89191177]\n",
            "  [0.89494485]\n",
            "  [0.89797794]]\n",
            "\n",
            " [[0.1       ]\n",
            "  [0.12945959]\n",
            "  [0.15289335]\n",
            "  ...\n",
            "  [0.89081779]\n",
            "  [0.89426112]\n",
            "  [0.89770445]]\n",
            "\n",
            " ...\n",
            "\n",
            " [[0.1       ]\n",
            "  [0.1       ]\n",
            "  [0.11695322]\n",
            "  ...\n",
            "  [0.9       ]\n",
            "  [0.9       ]\n",
            "  [0.9       ]]\n",
            "\n",
            " [[0.1       ]\n",
            "  [0.1       ]\n",
            "  [0.11287356]\n",
            "  ...\n",
            "  [0.89126437]\n",
            "  [0.89126437]\n",
            "  [0.9       ]]\n",
            "\n",
            " [[0.1       ]\n",
            "  [0.1       ]\n",
            "  [0.11591198]\n",
            "  ...\n",
            "  [0.9       ]\n",
            "  [0.9       ]\n",
            "  [0.9       ]]]\n",
            "[[0 1 0]\n",
            " [0 1 0]\n",
            " [0 1 0]\n",
            " ...\n",
            " [0 0 1]\n",
            " [0 0 1]\n",
            " [0 0 1]]\n"
          ],
          "name": "stdout"
        }
      ]
    },
    {
      "cell_type": "markdown",
      "metadata": {
        "id": "6rKbBzY85o5_"
      },
      "source": [
        "**Train Test Split**"
      ]
    },
    {
      "cell_type": "code",
      "metadata": {
        "colab": {
          "base_uri": "https://localhost:8080/"
        },
        "id": "kLZebiE_5tCe",
        "outputId": "631b768e-a4f1-4476-c8b0-904e60c8799c"
      },
      "source": [
        "# # split a dataset into train and test sets\n",
        "from sklearn.model_selection import train_test_split\n",
        "\n",
        "# split into train test sets\n",
        "trainX, testX, trainy, testy = train_test_split(X, Y, test_size=0.33, random_state=64)\n",
        "\n",
        "print(trainX.shape, testX.shape, trainy.shape, testy.shape)"
      ],
      "execution_count": 4,
      "outputs": [
        {
          "output_type": "stream",
          "text": [
            "(2010, 128, 1) (990, 128, 1) (2010, 3) (990, 3)\n"
          ],
          "name": "stdout"
        }
      ]
    },
    {
      "cell_type": "markdown",
      "metadata": {
        "id": "ZgVzvifi5tay"
      },
      "source": [
        "**CNN-LSTM Model**"
      ]
    },
    {
      "cell_type": "code",
      "metadata": {
        "id": "OjW4SoK75yfS"
      },
      "source": [
        "# fit and evaluate a model\n",
        "def evaluate_model(trainX, trainy, testX, testy):\n",
        "\t# define model\n",
        "\tverbose, epochs, batch_size = 1, 100, 32\n",
        "\tn_timesteps, n_features, n_outputs = trainX.shape[1], trainX.shape[2], trainy.shape[1]\n",
        "\t# reshape data into time steps of sub-sequences\n",
        "\tn_steps, n_length = 4, 32\n",
        "\ttrainX = trainX.reshape((trainX.shape[0], n_steps, n_length, n_features))\n",
        "\ttestX = testX.reshape((testX.shape[0], n_steps, n_length, n_features))\n",
        "\t# define model\n",
        "\tmodel = Sequential()\n",
        "\tmodel.add(TimeDistributed(Conv1D(filters=64, kernel_size=3, activation='relu'), input_shape=(None,n_length,n_features)))\n",
        "\tmodel.add(TimeDistributed(Conv1D(filters=64, kernel_size=3, activation='relu')))\n",
        "\tmodel.add(TimeDistributed(Dropout(0.5)))\n",
        "\tmodel.add(TimeDistributed(MaxPooling1D(pool_size=2)))\n",
        "\tmodel.add(TimeDistributed(Flatten()))\n",
        "\tmodel.add(LSTM(100))\n",
        "\t# model.add(Dropout(0.5))\n",
        "\t# model.add(Dense(100, activation='relu'))\n",
        "\tmodel.add(Dense(n_outputs, activation='softmax'))\n",
        "\tmodel.compile(loss='categorical_crossentropy', optimizer='adam', metrics=['accuracy'])\n",
        "\t# fit network\n",
        "\tmodel.fit(trainX, trainy, epochs=epochs, batch_size=batch_size, verbose=verbose)\n",
        "\t# evaluate model\n",
        "\t_, accuracy = model.evaluate(testX, testy, batch_size=batch_size, verbose=1)\n",
        "\treturn accuracy"
      ],
      "execution_count": 5,
      "outputs": []
    },
    {
      "cell_type": "markdown",
      "metadata": {
        "id": "GslQY5E25y3Z"
      },
      "source": [
        "**Summarize Results**"
      ]
    },
    {
      "cell_type": "code",
      "metadata": {
        "id": "GEN1Z-2L52IM"
      },
      "source": [
        "# summarize scores\n",
        "def summarize_results(scores):\n",
        "\tprint(scores)\n",
        "\tm, s = mean(scores), std(scores)\n",
        "\tprint('Accuracy: %.3f%% (+/-%.3f)' % (m, s))\n",
        "\n",
        "# run an experiment\n",
        "def run_experiment(repeats=1):\n",
        "\t# # load data\n",
        "\t# trainX, trainy, testX, testy = load_dataset()\n",
        "\t# repeat experiment\n",
        "\tscores = list()\n",
        "\tfor r in range(repeats):\n",
        "\t\tscore = evaluate_model(trainX, trainy, testX, testy)\n",
        "\t\tscore = score * 100.0\n",
        "\t\tprint('>#%d: %.3f' % (r+1, score))\n",
        "\t\tscores.append(score)\n",
        "\t# summarize results\n",
        "\tsummarize_results(scores)"
      ],
      "execution_count": 7,
      "outputs": []
    },
    {
      "cell_type": "markdown",
      "metadata": {
        "id": "piwhQxEp52Uq"
      },
      "source": [
        "**Run**"
      ]
    },
    {
      "cell_type": "code",
      "metadata": {
        "colab": {
          "base_uri": "https://localhost:8080/"
        },
        "id": "5pbgh16Y53Lp",
        "outputId": "64cfc5ac-5a52-42d1-b1f8-b7cc05b78317"
      },
      "source": [
        "# run the experiment\n",
        "run_experiment()"
      ],
      "execution_count": 8,
      "outputs": [
        {
          "output_type": "stream",
          "text": [
            "Epoch 1/100\n",
            "63/63 [==============================] - 25s 32ms/step - loss: 1.1133 - accuracy: 0.3060\n",
            "Epoch 2/100\n",
            "63/63 [==============================] - 2s 32ms/step - loss: 0.9249 - accuracy: 0.5501\n",
            "Epoch 3/100\n",
            "63/63 [==============================] - 2s 33ms/step - loss: 0.5392 - accuracy: 0.7484\n",
            "Epoch 4/100\n",
            "63/63 [==============================] - 2s 33ms/step - loss: 0.6253 - accuracy: 0.7088\n",
            "Epoch 5/100\n",
            "63/63 [==============================] - 2s 32ms/step - loss: 0.5276 - accuracy: 0.7324\n",
            "Epoch 6/100\n",
            "63/63 [==============================] - 2s 32ms/step - loss: 0.4394 - accuracy: 0.7864\n",
            "Epoch 7/100\n",
            "63/63 [==============================] - 2s 32ms/step - loss: 0.4613 - accuracy: 0.7642\n",
            "Epoch 8/100\n",
            "63/63 [==============================] - 2s 32ms/step - loss: 0.4542 - accuracy: 0.7789\n",
            "Epoch 9/100\n",
            "63/63 [==============================] - 2s 33ms/step - loss: 0.4146 - accuracy: 0.8014\n",
            "Epoch 10/100\n",
            "63/63 [==============================] - 2s 33ms/step - loss: 0.4252 - accuracy: 0.7804\n",
            "Epoch 11/100\n",
            "63/63 [==============================] - 2s 32ms/step - loss: 0.4810 - accuracy: 0.7516\n",
            "Epoch 12/100\n",
            "63/63 [==============================] - 2s 33ms/step - loss: 0.4168 - accuracy: 0.7928\n",
            "Epoch 13/100\n",
            "63/63 [==============================] - 2s 32ms/step - loss: 0.4390 - accuracy: 0.7733\n",
            "Epoch 14/100\n",
            "63/63 [==============================] - 2s 32ms/step - loss: 0.4227 - accuracy: 0.7816\n",
            "Epoch 15/100\n",
            "63/63 [==============================] - 2s 32ms/step - loss: 0.3956 - accuracy: 0.8038\n",
            "Epoch 16/100\n",
            "63/63 [==============================] - 2s 32ms/step - loss: 0.4141 - accuracy: 0.8028\n",
            "Epoch 17/100\n",
            "63/63 [==============================] - 2s 32ms/step - loss: 0.4059 - accuracy: 0.7987\n",
            "Epoch 18/100\n",
            "63/63 [==============================] - 2s 33ms/step - loss: 0.4028 - accuracy: 0.8001\n",
            "Epoch 19/100\n",
            "63/63 [==============================] - 2s 33ms/step - loss: 0.4022 - accuracy: 0.7903\n",
            "Epoch 20/100\n",
            "63/63 [==============================] - 2s 32ms/step - loss: 0.4337 - accuracy: 0.7750\n",
            "Epoch 21/100\n",
            "63/63 [==============================] - 2s 32ms/step - loss: 0.4056 - accuracy: 0.7898\n",
            "Epoch 22/100\n",
            "63/63 [==============================] - 2s 33ms/step - loss: 0.3984 - accuracy: 0.7941\n",
            "Epoch 23/100\n",
            "63/63 [==============================] - 2s 33ms/step - loss: 0.4177 - accuracy: 0.7965\n",
            "Epoch 24/100\n",
            "63/63 [==============================] - 2s 33ms/step - loss: 0.4088 - accuracy: 0.7965\n",
            "Epoch 25/100\n",
            "63/63 [==============================] - 2s 33ms/step - loss: 0.3865 - accuracy: 0.8127\n",
            "Epoch 26/100\n",
            "63/63 [==============================] - 2s 33ms/step - loss: 0.4028 - accuracy: 0.7971\n",
            "Epoch 27/100\n",
            "63/63 [==============================] - 2s 32ms/step - loss: 0.3802 - accuracy: 0.8085\n",
            "Epoch 28/100\n",
            "63/63 [==============================] - 2s 33ms/step - loss: 0.4049 - accuracy: 0.7970\n",
            "Epoch 29/100\n",
            "63/63 [==============================] - 2s 33ms/step - loss: 0.3946 - accuracy: 0.7998\n",
            "Epoch 30/100\n",
            "63/63 [==============================] - 2s 33ms/step - loss: 0.3961 - accuracy: 0.8059\n",
            "Epoch 31/100\n",
            "63/63 [==============================] - 2s 33ms/step - loss: 0.4010 - accuracy: 0.7880\n",
            "Epoch 32/100\n",
            "63/63 [==============================] - 2s 33ms/step - loss: 0.5129 - accuracy: 0.7547\n",
            "Epoch 33/100\n",
            "63/63 [==============================] - 2s 33ms/step - loss: 0.4024 - accuracy: 0.7923\n",
            "Epoch 34/100\n",
            "63/63 [==============================] - 2s 33ms/step - loss: 0.4064 - accuracy: 0.7982\n",
            "Epoch 35/100\n",
            "63/63 [==============================] - 2s 33ms/step - loss: 0.4004 - accuracy: 0.7868\n",
            "Epoch 36/100\n",
            "63/63 [==============================] - 2s 33ms/step - loss: 0.3955 - accuracy: 0.7992\n",
            "Epoch 37/100\n",
            "63/63 [==============================] - 2s 33ms/step - loss: 0.4087 - accuracy: 0.7865\n",
            "Epoch 38/100\n",
            "63/63 [==============================] - 2s 33ms/step - loss: 0.3822 - accuracy: 0.8094\n",
            "Epoch 39/100\n",
            "63/63 [==============================] - 2s 33ms/step - loss: 0.3756 - accuracy: 0.8175\n",
            "Epoch 40/100\n",
            "63/63 [==============================] - 2s 33ms/step - loss: 0.3979 - accuracy: 0.7949\n",
            "Epoch 41/100\n",
            "63/63 [==============================] - 2s 33ms/step - loss: 0.3727 - accuracy: 0.8136\n",
            "Epoch 42/100\n",
            "63/63 [==============================] - 2s 33ms/step - loss: 0.4094 - accuracy: 0.7906\n",
            "Epoch 43/100\n",
            "63/63 [==============================] - 2s 33ms/step - loss: 0.3928 - accuracy: 0.8051\n",
            "Epoch 44/100\n",
            "63/63 [==============================] - 2s 34ms/step - loss: 0.3725 - accuracy: 0.8158\n",
            "Epoch 45/100\n",
            "63/63 [==============================] - 2s 33ms/step - loss: 0.3918 - accuracy: 0.7930\n",
            "Epoch 46/100\n",
            "63/63 [==============================] - 2s 33ms/step - loss: 0.4023 - accuracy: 0.7910\n",
            "Epoch 47/100\n",
            "63/63 [==============================] - 2s 33ms/step - loss: 0.3838 - accuracy: 0.8055\n",
            "Epoch 48/100\n",
            "63/63 [==============================] - 2s 33ms/step - loss: 0.3928 - accuracy: 0.7913\n",
            "Epoch 49/100\n",
            "63/63 [==============================] - 2s 33ms/step - loss: 0.3778 - accuracy: 0.8151\n",
            "Epoch 50/100\n",
            "63/63 [==============================] - 2s 33ms/step - loss: 0.3655 - accuracy: 0.8129\n",
            "Epoch 51/100\n",
            "63/63 [==============================] - 2s 33ms/step - loss: 0.3910 - accuracy: 0.8060\n",
            "Epoch 52/100\n",
            "63/63 [==============================] - 2s 33ms/step - loss: 0.3807 - accuracy: 0.8138\n",
            "Epoch 53/100\n",
            "63/63 [==============================] - 2s 33ms/step - loss: 0.3942 - accuracy: 0.8168\n",
            "Epoch 54/100\n",
            "63/63 [==============================] - 2s 33ms/step - loss: 0.3571 - accuracy: 0.8305\n",
            "Epoch 55/100\n",
            "63/63 [==============================] - 2s 33ms/step - loss: 0.3953 - accuracy: 0.8178\n",
            "Epoch 56/100\n",
            "63/63 [==============================] - 2s 33ms/step - loss: 0.4060 - accuracy: 0.7886\n",
            "Epoch 57/100\n",
            "63/63 [==============================] - 2s 33ms/step - loss: 0.3971 - accuracy: 0.8066\n",
            "Epoch 58/100\n",
            "63/63 [==============================] - 2s 33ms/step - loss: 0.4018 - accuracy: 0.8000\n",
            "Epoch 59/100\n",
            "63/63 [==============================] - 2s 33ms/step - loss: 0.3733 - accuracy: 0.8072\n",
            "Epoch 60/100\n",
            "63/63 [==============================] - 2s 33ms/step - loss: 0.3781 - accuracy: 0.8097\n",
            "Epoch 61/100\n",
            "63/63 [==============================] - 2s 33ms/step - loss: 0.4016 - accuracy: 0.8001\n",
            "Epoch 62/100\n",
            "63/63 [==============================] - 2s 33ms/step - loss: 0.3779 - accuracy: 0.8162\n",
            "Epoch 63/100\n",
            "63/63 [==============================] - 2s 33ms/step - loss: 0.3778 - accuracy: 0.8099\n",
            "Epoch 64/100\n",
            "63/63 [==============================] - 2s 33ms/step - loss: 0.3703 - accuracy: 0.8109\n",
            "Epoch 65/100\n",
            "63/63 [==============================] - 2s 33ms/step - loss: 0.4564 - accuracy: 0.7700\n",
            "Epoch 66/100\n",
            "63/63 [==============================] - 2s 34ms/step - loss: 0.3886 - accuracy: 0.8023\n",
            "Epoch 67/100\n",
            "63/63 [==============================] - 2s 33ms/step - loss: 0.3734 - accuracy: 0.8081\n",
            "Epoch 68/100\n",
            "63/63 [==============================] - 2s 33ms/step - loss: 0.3637 - accuracy: 0.8194\n",
            "Epoch 69/100\n",
            "63/63 [==============================] - 2s 34ms/step - loss: 0.3919 - accuracy: 0.8043\n",
            "Epoch 70/100\n",
            "63/63 [==============================] - 2s 33ms/step - loss: 0.4281 - accuracy: 0.7768\n",
            "Epoch 71/100\n",
            "63/63 [==============================] - 2s 33ms/step - loss: 0.3855 - accuracy: 0.8077\n",
            "Epoch 72/100\n",
            "63/63 [==============================] - 2s 33ms/step - loss: 0.3937 - accuracy: 0.8032\n",
            "Epoch 73/100\n",
            "63/63 [==============================] - 2s 33ms/step - loss: 0.3801 - accuracy: 0.8064\n",
            "Epoch 74/100\n",
            "63/63 [==============================] - 2s 33ms/step - loss: 0.3823 - accuracy: 0.8062\n",
            "Epoch 75/100\n",
            "63/63 [==============================] - 2s 34ms/step - loss: 0.3736 - accuracy: 0.8143\n",
            "Epoch 76/100\n",
            "63/63 [==============================] - 2s 33ms/step - loss: 0.3869 - accuracy: 0.8084\n",
            "Epoch 77/100\n",
            "63/63 [==============================] - 2s 34ms/step - loss: 0.3830 - accuracy: 0.8210\n",
            "Epoch 78/100\n",
            "63/63 [==============================] - 2s 33ms/step - loss: 0.3922 - accuracy: 0.8060\n",
            "Epoch 79/100\n",
            "63/63 [==============================] - 2s 34ms/step - loss: 0.3818 - accuracy: 0.8088\n",
            "Epoch 80/100\n",
            "63/63 [==============================] - 2s 33ms/step - loss: 0.3902 - accuracy: 0.7987\n",
            "Epoch 81/100\n",
            "63/63 [==============================] - 2s 33ms/step - loss: 0.3829 - accuracy: 0.8020\n",
            "Epoch 82/100\n",
            "63/63 [==============================] - 2s 34ms/step - loss: 0.3934 - accuracy: 0.8080\n",
            "Epoch 83/100\n",
            "63/63 [==============================] - 2s 33ms/step - loss: 0.3883 - accuracy: 0.8169\n",
            "Epoch 84/100\n",
            "63/63 [==============================] - 2s 34ms/step - loss: 0.3885 - accuracy: 0.7994\n",
            "Epoch 85/100\n",
            "63/63 [==============================] - 2s 33ms/step - loss: 0.3941 - accuracy: 0.8029\n",
            "Epoch 86/100\n",
            "63/63 [==============================] - 2s 34ms/step - loss: 0.3890 - accuracy: 0.8028\n",
            "Epoch 87/100\n",
            "63/63 [==============================] - 2s 34ms/step - loss: 0.3829 - accuracy: 0.8081\n",
            "Epoch 88/100\n",
            "63/63 [==============================] - 2s 33ms/step - loss: 0.3716 - accuracy: 0.8127\n",
            "Epoch 89/100\n",
            "63/63 [==============================] - 2s 34ms/step - loss: 0.3703 - accuracy: 0.8227\n",
            "Epoch 90/100\n",
            "63/63 [==============================] - 2s 34ms/step - loss: 0.3681 - accuracy: 0.8098\n",
            "Epoch 91/100\n",
            "63/63 [==============================] - 2s 33ms/step - loss: 0.3708 - accuracy: 0.8188\n",
            "Epoch 92/100\n",
            "63/63 [==============================] - 2s 33ms/step - loss: 0.3607 - accuracy: 0.8234\n",
            "Epoch 93/100\n",
            "63/63 [==============================] - 2s 33ms/step - loss: 0.3688 - accuracy: 0.8087\n",
            "Epoch 94/100\n",
            "63/63 [==============================] - 2s 33ms/step - loss: 0.3950 - accuracy: 0.7995\n",
            "Epoch 95/100\n",
            "63/63 [==============================] - 2s 33ms/step - loss: 0.3689 - accuracy: 0.8083\n",
            "Epoch 96/100\n",
            "63/63 [==============================] - 2s 33ms/step - loss: 0.3873 - accuracy: 0.7972\n",
            "Epoch 97/100\n",
            "63/63 [==============================] - 2s 33ms/step - loss: 0.4012 - accuracy: 0.7944\n",
            "Epoch 98/100\n",
            "63/63 [==============================] - 2s 34ms/step - loss: 0.3776 - accuracy: 0.8139\n",
            "Epoch 99/100\n",
            "63/63 [==============================] - 2s 34ms/step - loss: 0.4082 - accuracy: 0.7968\n",
            "Epoch 100/100\n",
            "63/63 [==============================] - 2s 33ms/step - loss: 0.3631 - accuracy: 0.8197\n",
            "31/31 [==============================] - 1s 9ms/step - loss: 0.3589 - accuracy: 0.8222\n",
            ">#1: 82.222\n",
            "[82.22222328186035]\n",
            "Accuracy: 82.222% (+/-0.000)\n"
          ],
          "name": "stdout"
        }
      ]
    }
  ]
}