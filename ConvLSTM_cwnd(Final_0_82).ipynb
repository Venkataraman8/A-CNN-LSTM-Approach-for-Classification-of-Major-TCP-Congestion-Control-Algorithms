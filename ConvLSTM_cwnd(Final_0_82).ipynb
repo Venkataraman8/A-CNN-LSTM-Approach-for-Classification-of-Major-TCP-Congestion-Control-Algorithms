{
  "nbformat": 4,
  "nbformat_minor": 0,
  "metadata": {
    "colab": {
      "name": "ConvLSTM_cwnd(Final: 0.82).ipynb",
      "provenance": []
    },
    "kernelspec": {
      "name": "python3",
      "display_name": "Python 3"
    },
    "language_info": {
      "name": "python"
    }
  },
  "cells": [
    {
      "cell_type": "markdown",
      "metadata": {
        "id": "q7emz6x7NAHI"
      },
      "source": [
        "# **ConvLSTM for cwnd 3 Algos**"
      ]
    },
    {
      "cell_type": "markdown",
      "metadata": {
        "id": "LnGXIcLMNI17"
      },
      "source": [
        "**Importing necessary packages, modules**\n"
      ]
    },
    {
      "cell_type": "code",
      "metadata": {
        "id": "cUEoduNBEm-3"
      },
      "source": [
        "# convlstm model\n",
        "from numpy import mean\n",
        "from numpy import std\n",
        "from numpy import dstack\n",
        "from pandas import read_csv\n",
        "from keras.models import Sequential\n",
        "from keras.layers import Dense\n",
        "from keras.layers import Flatten\n",
        "from keras.layers import Dropout\n",
        "from keras.layers import LSTM\n",
        "from keras.layers import TimeDistributed\n",
        "from keras.layers import ConvLSTM2D\n",
        "from matplotlib import pyplot\n",
        "\n",
        "import pandas as pd\n",
        "import numpy as np\n",
        "import re\n",
        "\n",
        "import matplotlib.pyplot as plt\n",
        "import io"
      ],
      "execution_count": null,
      "outputs": []
    },
    {
      "cell_type": "markdown",
      "metadata": {
        "id": "PS9iA34cNRSO"
      },
      "source": [
        "**Getting dataset : x_array, y_array (from file)**"
      ]
    },
    {
      "cell_type": "code",
      "metadata": {
        "colab": {
          "resources": {
            "http://localhost:8080/nbextensions/google.colab/files.js": {
              "data": "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",
              "ok": true,
              "headers": [
                [
                  "content-type",
                  "application/javascript"
                ]
              ],
              "status": 200,
              "status_text": ""
            }
          },
          "base_uri": "https://localhost:8080/",
          "height": 1000
        },
        "id": "bzE34yZDNUXB",
        "outputId": "6bdc2360-378e-4fe6-c741-dcc6fa21a633"
      },
      "source": [
        "from google.colab import files\n",
        "uploaded = files.upload()\n",
        "\n",
        "df_x = pd.read_csv(io.BytesIO(uploaded['x_dataset_full.csv']),header=None)\n",
        "data_x = df_x.values\n",
        "df_y = pd.read_csv(io.BytesIO(uploaded['y_dataset_full.csv']),header=None)\n",
        "data_y = df_y.values\n",
        "\n",
        "X = np.array(data_x).reshape(3000,128,1)\n",
        "Y = np.array(data_y)\n",
        "# Y1 = np.array(data_y1)\n",
        "# encoder = OneHotEncoder(sparse=False)\n",
        "Y = pd.get_dummies(df_y).values\n",
        "print(X)\n",
        "print(Y)"
      ],
      "execution_count": null,
      "outputs": [
        {
          "output_type": "display_data",
          "data": {
            "text/html": [
              "\n",
              "     <input type=\"file\" id=\"files-9210bb28-9146-4778-a48f-4df34f366454\" name=\"files[]\" multiple disabled\n",
              "        style=\"border:none\" />\n",
              "     <output id=\"result-9210bb28-9146-4778-a48f-4df34f366454\">\n",
              "      Upload widget is only available when the cell has been executed in the\n",
              "      current browser session. Please rerun this cell to enable.\n",
              "      </output>\n",
              "      <script src=\"/nbextensions/google.colab/files.js\"></script> "
            ],
            "text/plain": [
              "<IPython.core.display.HTML object>"
            ]
          },
          "metadata": {
            "tags": []
          }
        },
        {
          "output_type": "stream",
          "text": [
            "Saving x_dataset_full.csv to x_dataset_full (1).csv\n",
            "Saving y_dataset_full.csv to y_dataset_full (1).csv\n",
            "[[[0.1       ]\n",
            "  [0.11750547]\n",
            "  [0.13369803]\n",
            "  ...\n",
            "  [0.88949672]\n",
            "  [0.89387308]\n",
            "  [0.89737418]]\n",
            "\n",
            " [[0.1       ]\n",
            "  [0.12830882]\n",
            "  [0.15082721]\n",
            "  ...\n",
            "  [0.89191177]\n",
            "  [0.89494485]\n",
            "  [0.89797794]]\n",
            "\n",
            " [[0.1       ]\n",
            "  [0.12945959]\n",
            "  [0.15289335]\n",
            "  ...\n",
            "  [0.89081779]\n",
            "  [0.89426112]\n",
            "  [0.89770445]]\n",
            "\n",
            " ...\n",
            "\n",
            " [[0.1       ]\n",
            "  [0.1       ]\n",
            "  [0.11695322]\n",
            "  ...\n",
            "  [0.9       ]\n",
            "  [0.9       ]\n",
            "  [0.9       ]]\n",
            "\n",
            " [[0.1       ]\n",
            "  [0.1       ]\n",
            "  [0.11287356]\n",
            "  ...\n",
            "  [0.89126437]\n",
            "  [0.89126437]\n",
            "  [0.9       ]]\n",
            "\n",
            " [[0.1       ]\n",
            "  [0.1       ]\n",
            "  [0.11591198]\n",
            "  ...\n",
            "  [0.9       ]\n",
            "  [0.9       ]\n",
            "  [0.9       ]]]\n",
            "[[0 1 0]\n",
            " [0 1 0]\n",
            " [0 1 0]\n",
            " ...\n",
            " [0 0 1]\n",
            " [0 0 1]\n",
            " [0 0 1]]\n"
          ],
          "name": "stdout"
        }
      ]
    },
    {
      "cell_type": "markdown",
      "metadata": {
        "id": "zY2A2R7tNVCf"
      },
      "source": [
        "**Train Test Split**"
      ]
    },
    {
      "cell_type": "code",
      "metadata": {
        "colab": {
          "base_uri": "https://localhost:8080/"
        },
        "id": "vslrVF2KNckT",
        "outputId": "6d72d40c-01a0-4ff3-d2f1-779737093363"
      },
      "source": [
        "# # split a dataset into train and test sets\n",
        "from sklearn.model_selection import train_test_split\n",
        "\n",
        "# split into train test sets\n",
        "trainX, testX, trainy, testy = train_test_split(X, Y, test_size=0.33, random_state=64)\n",
        "\n",
        "print(trainX.shape, testX.shape, trainy.shape, testy.shape)"
      ],
      "execution_count": null,
      "outputs": [
        {
          "output_type": "stream",
          "text": [
            "(2010, 128, 1) (990, 128, 1) (2010, 3) (990, 3)\n"
          ],
          "name": "stdout"
        }
      ]
    },
    {
      "cell_type": "markdown",
      "metadata": {
        "id": "4kkRojstNgzQ"
      },
      "source": [
        "**ConvLSTM Model**"
      ]
    },
    {
      "cell_type": "code",
      "metadata": {
        "id": "2ICfA9AHNk2G"
      },
      "source": [
        "# fit and evaluate a model\n",
        "def evaluate_model(trainX, trainy, testX, testy):\n",
        "\t# define model\n",
        "\tverbose, epochs, batch_size = 1, 100, 32\n",
        "\tn_timesteps, n_features, n_outputs = trainX.shape[1], trainX.shape[2], trainy.shape[1]\n",
        "\t# reshape into subsequences (samples, time steps, rows, cols, channels)\n",
        "\tn_steps, n_length = 4, 32\n",
        "\ttrainX = trainX.reshape((trainX.shape[0], n_steps, 1, n_length, n_features))\n",
        "\ttestX = testX.reshape((testX.shape[0], n_steps, 1, n_length, n_features))\n",
        "\t# define model\n",
        "\tmodel = Sequential()\n",
        "\tmodel.add(ConvLSTM2D(filters=64, kernel_size=(1,3), activation='relu', input_shape=(n_steps, 1, n_length, n_features)))\n",
        "\t# model.add(Dropout(0.5))\n",
        "\tmodel.add(Flatten())\n",
        "\t# model.add(Dense(100, activation='relu'))\n",
        "\tmodel.add(Dense(n_outputs, activation='softmax'))\n",
        "\tmodel.compile(loss='categorical_crossentropy', optimizer='adam', metrics=['accuracy'])\n",
        "\t# fit network\n",
        "\tmodel.fit(trainX, trainy, epochs=epochs, batch_size=batch_size, verbose=verbose)\n",
        "\t# evaluate model\n",
        "\t_, accuracy = model.evaluate(testX, testy, batch_size=batch_size, verbose=1)\n",
        "\treturn accuracy"
      ],
      "execution_count": null,
      "outputs": []
    },
    {
      "cell_type": "markdown",
      "metadata": {
        "id": "-wmDqahYNlb3"
      },
      "source": [
        "**Summarize Results**"
      ]
    },
    {
      "cell_type": "code",
      "metadata": {
        "id": "RAUrXXWfNpaq"
      },
      "source": [
        "# summarize scores\n",
        "def summarize_results(scores):\n",
        "\tprint(scores)\n",
        "\tm, s = mean(scores), std(scores)\n",
        "\tprint('Accuracy: %.3f%% (+/-%.3f)' % (m, s))\n",
        "\n",
        "# run an experiment\n",
        "def run_experiment(repeats=1):\n",
        "\t# # load data\n",
        "\t# trainX, trainy, testX, testy = load_dataset()\n",
        "\t# repeat experiment\n",
        "\tscores = list()\n",
        "\tfor r in range(repeats):\n",
        "\t\tscore = evaluate_model(trainX, trainy, testX, testy)\n",
        "\t\tscore = score * 100.0\n",
        "\t\tprint('>#%d: %.3f' % (r+1, score))\n",
        "\t\tscores.append(score)\n",
        "\t# summarize results\n",
        "\tsummarize_results(scores)"
      ],
      "execution_count": null,
      "outputs": []
    },
    {
      "cell_type": "markdown",
      "metadata": {
        "id": "36tbZjusNpy_"
      },
      "source": [
        "**Run**"
      ]
    },
    {
      "cell_type": "code",
      "metadata": {
        "colab": {
          "base_uri": "https://localhost:8080/"
        },
        "id": "O-9ImiA7NsO5",
        "outputId": "2a6ada6d-37da-4635-c56e-cbf4a6b418d1"
      },
      "source": [
        "# run the experiment\n",
        "run_experiment()"
      ],
      "execution_count": null,
      "outputs": [
        {
          "output_type": "stream",
          "text": [
            "Epoch 1/100\n",
            "63/63 [==============================] - 7s 55ms/step - loss: 1.1012 - accuracy: 0.3213\n",
            "Epoch 2/100\n",
            "63/63 [==============================] - 3s 54ms/step - loss: 1.0928 - accuracy: 0.3655\n",
            "Epoch 3/100\n",
            "63/63 [==============================] - 3s 54ms/step - loss: 0.9838 - accuracy: 0.6084\n",
            "Epoch 4/100\n",
            "63/63 [==============================] - 3s 55ms/step - loss: 0.6362 - accuracy: 0.7041\n",
            "Epoch 5/100\n",
            "63/63 [==============================] - 3s 55ms/step - loss: 0.5885 - accuracy: 0.7168\n",
            "Epoch 6/100\n",
            "63/63 [==============================] - 3s 54ms/step - loss: 0.5543 - accuracy: 0.7211\n",
            "Epoch 7/100\n",
            "63/63 [==============================] - 3s 55ms/step - loss: 0.5338 - accuracy: 0.7443\n",
            "Epoch 8/100\n",
            "63/63 [==============================] - 3s 55ms/step - loss: 0.5514 - accuracy: 0.7293\n",
            "Epoch 9/100\n",
            "63/63 [==============================] - 3s 54ms/step - loss: 0.5715 - accuracy: 0.7179\n",
            "Epoch 10/100\n",
            "63/63 [==============================] - 3s 54ms/step - loss: 0.5148 - accuracy: 0.7513\n",
            "Epoch 11/100\n",
            "63/63 [==============================] - 3s 55ms/step - loss: 0.5300 - accuracy: 0.7493\n",
            "Epoch 12/100\n",
            "63/63 [==============================] - 3s 54ms/step - loss: 0.4991 - accuracy: 0.7725\n",
            "Epoch 13/100\n",
            "63/63 [==============================] - 3s 54ms/step - loss: 0.5517 - accuracy: 0.7213\n",
            "Epoch 14/100\n",
            "63/63 [==============================] - 3s 54ms/step - loss: 0.5289 - accuracy: 0.7450\n",
            "Epoch 15/100\n",
            "63/63 [==============================] - 3s 54ms/step - loss: 0.4956 - accuracy: 0.7606\n",
            "Epoch 16/100\n",
            "63/63 [==============================] - 3s 54ms/step - loss: 0.5303 - accuracy: 0.7367\n",
            "Epoch 17/100\n",
            "63/63 [==============================] - 3s 54ms/step - loss: 0.4820 - accuracy: 0.7918\n",
            "Epoch 18/100\n",
            "63/63 [==============================] - 3s 54ms/step - loss: 0.5389 - accuracy: 0.7390\n",
            "Epoch 19/100\n",
            "63/63 [==============================] - 3s 53ms/step - loss: 0.4974 - accuracy: 0.7650\n",
            "Epoch 20/100\n",
            "63/63 [==============================] - 3s 54ms/step - loss: 0.5133 - accuracy: 0.7561\n",
            "Epoch 21/100\n",
            "63/63 [==============================] - 3s 54ms/step - loss: 0.4891 - accuracy: 0.7745\n",
            "Epoch 22/100\n",
            "63/63 [==============================] - 3s 54ms/step - loss: 0.4892 - accuracy: 0.7661\n",
            "Epoch 23/100\n",
            "63/63 [==============================] - 3s 55ms/step - loss: 0.4883 - accuracy: 0.7620\n",
            "Epoch 24/100\n",
            "63/63 [==============================] - 3s 53ms/step - loss: 0.5016 - accuracy: 0.7628\n",
            "Epoch 25/100\n",
            "63/63 [==============================] - 3s 55ms/step - loss: 0.4775 - accuracy: 0.7827\n",
            "Epoch 26/100\n",
            "63/63 [==============================] - 3s 55ms/step - loss: 0.4896 - accuracy: 0.7688\n",
            "Epoch 27/100\n",
            "63/63 [==============================] - 3s 54ms/step - loss: 0.5111 - accuracy: 0.7588\n",
            "Epoch 28/100\n",
            "63/63 [==============================] - 3s 55ms/step - loss: 0.4958 - accuracy: 0.7582\n",
            "Epoch 29/100\n",
            "63/63 [==============================] - 3s 54ms/step - loss: 0.4963 - accuracy: 0.7672\n",
            "Epoch 30/100\n",
            "63/63 [==============================] - 3s 54ms/step - loss: 0.4933 - accuracy: 0.7600\n",
            "Epoch 31/100\n",
            "63/63 [==============================] - 3s 54ms/step - loss: 0.4620 - accuracy: 0.7840\n",
            "Epoch 32/100\n",
            "63/63 [==============================] - 3s 54ms/step - loss: 0.4694 - accuracy: 0.7718\n",
            "Epoch 33/100\n",
            "63/63 [==============================] - 3s 53ms/step - loss: 0.4734 - accuracy: 0.7640\n",
            "Epoch 34/100\n",
            "63/63 [==============================] - 3s 54ms/step - loss: 0.4478 - accuracy: 0.7857\n",
            "Epoch 35/100\n",
            "63/63 [==============================] - 4s 56ms/step - loss: 0.5071 - accuracy: 0.7555\n",
            "Epoch 36/100\n",
            "63/63 [==============================] - 3s 54ms/step - loss: 0.4699 - accuracy: 0.7807\n",
            "Epoch 37/100\n",
            "63/63 [==============================] - 3s 55ms/step - loss: 0.4764 - accuracy: 0.7816\n",
            "Epoch 38/100\n",
            "63/63 [==============================] - 3s 55ms/step - loss: 0.4837 - accuracy: 0.7838\n",
            "Epoch 39/100\n",
            "63/63 [==============================] - 3s 54ms/step - loss: 0.4647 - accuracy: 0.7873\n",
            "Epoch 40/100\n",
            "63/63 [==============================] - 3s 54ms/step - loss: 0.4726 - accuracy: 0.7745\n",
            "Epoch 41/100\n",
            "63/63 [==============================] - 4s 56ms/step - loss: 0.4771 - accuracy: 0.7728\n",
            "Epoch 42/100\n",
            "63/63 [==============================] - 3s 54ms/step - loss: 0.4666 - accuracy: 0.7909\n",
            "Epoch 43/100\n",
            "63/63 [==============================] - 3s 54ms/step - loss: 0.4388 - accuracy: 0.8031\n",
            "Epoch 44/100\n",
            "63/63 [==============================] - 3s 55ms/step - loss: 0.4483 - accuracy: 0.7974\n",
            "Epoch 45/100\n",
            "63/63 [==============================] - 3s 54ms/step - loss: 0.4712 - accuracy: 0.7750\n",
            "Epoch 46/100\n",
            "63/63 [==============================] - 3s 55ms/step - loss: 0.4544 - accuracy: 0.7910\n",
            "Epoch 47/100\n",
            "63/63 [==============================] - 3s 55ms/step - loss: 0.4697 - accuracy: 0.7722\n",
            "Epoch 48/100\n",
            "63/63 [==============================] - 3s 55ms/step - loss: 0.4669 - accuracy: 0.7741\n",
            "Epoch 49/100\n",
            "63/63 [==============================] - 3s 55ms/step - loss: 0.4168 - accuracy: 0.8026\n",
            "Epoch 50/100\n",
            "63/63 [==============================] - 3s 55ms/step - loss: 0.4477 - accuracy: 0.7935\n",
            "Epoch 51/100\n",
            "63/63 [==============================] - 3s 54ms/step - loss: 0.4383 - accuracy: 0.8039\n",
            "Epoch 52/100\n",
            "63/63 [==============================] - 3s 55ms/step - loss: 0.4418 - accuracy: 0.7912\n",
            "Epoch 53/100\n",
            "63/63 [==============================] - 3s 54ms/step - loss: 0.4423 - accuracy: 0.7897\n",
            "Epoch 54/100\n",
            "63/63 [==============================] - 3s 54ms/step - loss: 0.4487 - accuracy: 0.7998\n",
            "Epoch 55/100\n",
            "63/63 [==============================] - 3s 54ms/step - loss: 0.4576 - accuracy: 0.7771\n",
            "Epoch 56/100\n",
            "63/63 [==============================] - 3s 55ms/step - loss: 0.4188 - accuracy: 0.7983\n",
            "Epoch 57/100\n",
            "63/63 [==============================] - 3s 55ms/step - loss: 0.4419 - accuracy: 0.8026\n",
            "Epoch 58/100\n",
            "63/63 [==============================] - 3s 54ms/step - loss: 0.4617 - accuracy: 0.7900\n",
            "Epoch 59/100\n",
            "63/63 [==============================] - 3s 55ms/step - loss: 0.4534 - accuracy: 0.7963\n",
            "Epoch 60/100\n",
            "63/63 [==============================] - 3s 55ms/step - loss: 0.4096 - accuracy: 0.8077\n",
            "Epoch 61/100\n",
            "63/63 [==============================] - 3s 55ms/step - loss: 0.4383 - accuracy: 0.8020\n",
            "Epoch 62/100\n",
            "63/63 [==============================] - 3s 55ms/step - loss: 0.4150 - accuracy: 0.8054\n",
            "Epoch 63/100\n",
            "63/63 [==============================] - 3s 54ms/step - loss: 0.4255 - accuracy: 0.7992\n",
            "Epoch 64/100\n",
            "63/63 [==============================] - 3s 55ms/step - loss: 0.4254 - accuracy: 0.7907\n",
            "Epoch 65/100\n",
            "63/63 [==============================] - 3s 55ms/step - loss: 0.4208 - accuracy: 0.7990\n",
            "Epoch 66/100\n",
            "63/63 [==============================] - 3s 55ms/step - loss: 0.4530 - accuracy: 0.7786\n",
            "Epoch 67/100\n",
            "63/63 [==============================] - 3s 55ms/step - loss: 0.4295 - accuracy: 0.7962\n",
            "Epoch 68/100\n",
            "63/63 [==============================] - 3s 55ms/step - loss: 0.4255 - accuracy: 0.8040\n",
            "Epoch 69/100\n",
            "63/63 [==============================] - 3s 55ms/step - loss: 0.4176 - accuracy: 0.7886\n",
            "Epoch 70/100\n",
            "63/63 [==============================] - 3s 55ms/step - loss: 0.4060 - accuracy: 0.8098\n",
            "Epoch 71/100\n",
            "63/63 [==============================] - 3s 55ms/step - loss: 0.4315 - accuracy: 0.7801\n",
            "Epoch 72/100\n",
            "63/63 [==============================] - 4s 56ms/step - loss: 0.4225 - accuracy: 0.7937\n",
            "Epoch 73/100\n",
            "63/63 [==============================] - 3s 55ms/step - loss: 0.3969 - accuracy: 0.8123\n",
            "Epoch 74/100\n",
            "63/63 [==============================] - 3s 55ms/step - loss: 0.4228 - accuracy: 0.7982\n",
            "Epoch 75/100\n",
            "63/63 [==============================] - 4s 56ms/step - loss: 0.3995 - accuracy: 0.8121\n",
            "Epoch 76/100\n",
            "63/63 [==============================] - 4s 56ms/step - loss: 0.4034 - accuracy: 0.8098\n",
            "Epoch 77/100\n",
            "63/63 [==============================] - 4s 56ms/step - loss: 0.3941 - accuracy: 0.8167\n",
            "Epoch 78/100\n",
            "63/63 [==============================] - 4s 57ms/step - loss: 0.4548 - accuracy: 0.7632\n",
            "Epoch 79/100\n",
            "63/63 [==============================] - 4s 56ms/step - loss: 0.4018 - accuracy: 0.8093\n",
            "Epoch 80/100\n",
            "63/63 [==============================] - 3s 55ms/step - loss: 0.4263 - accuracy: 0.7921\n",
            "Epoch 81/100\n",
            "63/63 [==============================] - 3s 55ms/step - loss: 0.3878 - accuracy: 0.8201\n",
            "Epoch 82/100\n",
            "63/63 [==============================] - 4s 56ms/step - loss: 0.4182 - accuracy: 0.7977\n",
            "Epoch 83/100\n",
            "63/63 [==============================] - 3s 55ms/step - loss: 0.3930 - accuracy: 0.8216\n",
            "Epoch 84/100\n",
            "63/63 [==============================] - 3s 55ms/step - loss: 0.4198 - accuracy: 0.7915\n",
            "Epoch 85/100\n",
            "63/63 [==============================] - 4s 56ms/step - loss: 0.3827 - accuracy: 0.8187\n",
            "Epoch 86/100\n",
            "63/63 [==============================] - 3s 55ms/step - loss: 0.4150 - accuracy: 0.7872\n",
            "Epoch 87/100\n",
            "63/63 [==============================] - 3s 55ms/step - loss: 0.4010 - accuracy: 0.8066\n",
            "Epoch 88/100\n",
            "63/63 [==============================] - 3s 55ms/step - loss: 0.4025 - accuracy: 0.8137\n",
            "Epoch 89/100\n",
            "63/63 [==============================] - 3s 55ms/step - loss: 0.4166 - accuracy: 0.7870\n",
            "Epoch 90/100\n",
            "63/63 [==============================] - 4s 56ms/step - loss: 0.3904 - accuracy: 0.8161\n",
            "Epoch 91/100\n",
            "63/63 [==============================] - 3s 55ms/step - loss: 0.3875 - accuracy: 0.8142\n",
            "Epoch 92/100\n",
            "63/63 [==============================] - 3s 55ms/step - loss: 0.4142 - accuracy: 0.7956\n",
            "Epoch 93/100\n",
            "63/63 [==============================] - 4s 56ms/step - loss: 0.4106 - accuracy: 0.8012\n",
            "Epoch 94/100\n",
            "63/63 [==============================] - 4s 56ms/step - loss: 0.4002 - accuracy: 0.8091\n",
            "Epoch 95/100\n",
            "63/63 [==============================] - 3s 55ms/step - loss: 0.3856 - accuracy: 0.8163\n",
            "Epoch 96/100\n",
            "63/63 [==============================] - 4s 55ms/step - loss: 0.4234 - accuracy: 0.7814\n",
            "Epoch 97/100\n",
            "63/63 [==============================] - 4s 56ms/step - loss: 0.4018 - accuracy: 0.8016\n",
            "Epoch 98/100\n",
            "63/63 [==============================] - 4s 56ms/step - loss: 0.3897 - accuracy: 0.8201\n",
            "Epoch 99/100\n",
            "63/63 [==============================] - 4s 56ms/step - loss: 0.3886 - accuracy: 0.8114\n",
            "Epoch 100/100\n",
            "63/63 [==============================] - 4s 57ms/step - loss: 0.4158 - accuracy: 0.7934\n",
            ">#1: 81.919\n",
            "[81.91919326782227]\n",
            "Accuracy: 81.919% (+/-0.000)\n"
          ],
          "name": "stdout"
        }
      ]
    }
  ]
}