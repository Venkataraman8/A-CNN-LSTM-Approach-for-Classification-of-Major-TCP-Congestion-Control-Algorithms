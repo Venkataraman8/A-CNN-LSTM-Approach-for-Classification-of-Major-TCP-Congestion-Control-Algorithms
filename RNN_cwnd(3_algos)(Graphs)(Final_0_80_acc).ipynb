{
  "nbformat": 4,
  "nbformat_minor": 0,
  "metadata": {
    "colab": {
      "name": "RNN_cwnd(3_algos)(Graphs)(Final: 0.80 acc).ipynb",
      "provenance": [],
      "collapsed_sections": []
    },
    "kernelspec": {
      "name": "python3",
      "display_name": "Python 3"
    }
  },
  "cells": [
    {
      "cell_type": "markdown",
      "metadata": {
        "id": "iJ_GiU7mcbZT"
      },
      "source": [
        "# **RNN LSTM for cwnd 3 Algos**"
      ]
    },
    {
      "cell_type": "markdown",
      "metadata": {
        "id": "0ihg26OkE1Es"
      },
      "source": [
        "**Importing necessary packages, modules**"
      ]
    },
    {
      "cell_type": "code",
      "metadata": {
        "id": "OF_vmmQeinyK"
      },
      "source": [
        "from numpy import array\n",
        "from keras.preprocessing.text import one_hot\n",
        "from keras.preprocessing.sequence import pad_sequences\n",
        "from keras.models import Sequential\n",
        "from keras.layers.core import Activation, Dropout, Dense\n",
        "from keras.layers import Flatten, LSTM\n",
        "from keras.layers import GlobalMaxPooling1D\n",
        "from keras.models import Model\n",
        "from keras.layers.embeddings import Embedding\n",
        "from sklearn.model_selection import train_test_split\n",
        "from keras.preprocessing.text import Tokenizer\n",
        "from keras.layers import Input\n",
        "from keras.layers.merge import Concatenate\n",
        "from keras.layers import Bidirectional\n",
        "from keras import optimizers\n",
        "\n",
        "from sklearn.preprocessing import OneHotEncoder\n",
        "\n",
        "import pandas as pd\n",
        "import numpy as np\n",
        "import re\n",
        "\n",
        "import matplotlib.pyplot as plt\n",
        "import io"
      ],
      "execution_count": 1,
      "outputs": []
    },
    {
      "cell_type": "markdown",
      "metadata": {
        "id": "0V5ZECObb9iX"
      },
      "source": [
        "**Getting dataset : x_array, y_array (from file)**"
      ]
    },
    {
      "cell_type": "code",
      "metadata": {
        "id": "PJH6bv81ZRQ_",
        "colab": {
          "resources": {
            "http://localhost:8080/nbextensions/google.colab/files.js": {
              "data": "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",
              "ok": true,
              "headers": [
                [
                  "content-type",
                  "application/javascript"
                ]
              ],
              "status": 200,
              "status_text": ""
            }
          },
          "base_uri": "https://localhost:8080/",
          "height": 1000
        },
        "outputId": "1ddf01fc-beb8-44b6-c7c1-c7fb1b5268c3"
      },
      "source": [
        "from google.colab import files\n",
        "uploaded = files.upload()\n",
        "\n",
        "df_x = pd.read_csv(io.BytesIO(uploaded['x_dataset_full.csv']),header=None)\n",
        "data_x = df_x.values\n",
        "df_y = pd.read_csv(io.BytesIO(uploaded['y_dataset_full.csv']),header=None)\n",
        "data_y = df_y.values\n",
        "\n",
        "X = np.array(data_x).reshape(3000,128,1)\n",
        "Y = np.array(data_y)\n",
        "# Y1 = np.array(data_y1)\n",
        "# encoder = OneHotEncoder(sparse=False)\n",
        "Y = pd.get_dummies(df_y).values\n",
        "print(X)\n",
        "print(Y)"
      ],
      "execution_count": 2,
      "outputs": [
        {
          "output_type": "display_data",
          "data": {
            "text/html": [
              "\n",
              "     <input type=\"file\" id=\"files-5332e12d-e091-4c20-a2af-91225c4144f0\" name=\"files[]\" multiple disabled\n",
              "        style=\"border:none\" />\n",
              "     <output id=\"result-5332e12d-e091-4c20-a2af-91225c4144f0\">\n",
              "      Upload widget is only available when the cell has been executed in the\n",
              "      current browser session. Please rerun this cell to enable.\n",
              "      </output>\n",
              "      <script src=\"/nbextensions/google.colab/files.js\"></script> "
            ],
            "text/plain": [
              "<IPython.core.display.HTML object>"
            ]
          },
          "metadata": {
            "tags": []
          }
        },
        {
          "output_type": "stream",
          "text": [
            "Saving x_dataset_full.csv to x_dataset_full.csv\n",
            "Saving y_dataset_full.csv to y_dataset_full.csv\n",
            "[[[0.1       ]\n",
            "  [0.11750547]\n",
            "  [0.13369803]\n",
            "  ...\n",
            "  [0.88949672]\n",
            "  [0.89387308]\n",
            "  [0.89737418]]\n",
            "\n",
            " [[0.1       ]\n",
            "  [0.12830882]\n",
            "  [0.15082721]\n",
            "  ...\n",
            "  [0.89191177]\n",
            "  [0.89494485]\n",
            "  [0.89797794]]\n",
            "\n",
            " [[0.1       ]\n",
            "  [0.12945959]\n",
            "  [0.15289335]\n",
            "  ...\n",
            "  [0.89081779]\n",
            "  [0.89426112]\n",
            "  [0.89770445]]\n",
            "\n",
            " ...\n",
            "\n",
            " [[0.1       ]\n",
            "  [0.1       ]\n",
            "  [0.11695322]\n",
            "  ...\n",
            "  [0.9       ]\n",
            "  [0.9       ]\n",
            "  [0.9       ]]\n",
            "\n",
            " [[0.1       ]\n",
            "  [0.1       ]\n",
            "  [0.11287356]\n",
            "  ...\n",
            "  [0.89126437]\n",
            "  [0.89126437]\n",
            "  [0.9       ]]\n",
            "\n",
            " [[0.1       ]\n",
            "  [0.1       ]\n",
            "  [0.11591198]\n",
            "  ...\n",
            "  [0.9       ]\n",
            "  [0.9       ]\n",
            "  [0.9       ]]]\n",
            "[[0 1 0]\n",
            " [0 1 0]\n",
            " [0 1 0]\n",
            " ...\n",
            " [0 0 1]\n",
            " [0 0 1]\n",
            " [0 0 1]]\n"
          ],
          "name": "stdout"
        }
      ]
    },
    {
      "cell_type": "code",
      "metadata": {
        "id": "zZhxDJNGwTgs",
        "colab": {
          "base_uri": "https://localhost:8080/"
        },
        "outputId": "c1de1e52-8b5d-4b75-891b-40cda750a011"
      },
      "source": [
        "print(X[0][23])\n",
        "print(Y[1000])"
      ],
      "execution_count": 3,
      "outputs": [
        {
          "output_type": "stream",
          "text": [
            "[0.36555799]\n",
            "[1 0 0]\n"
          ],
          "name": "stdout"
        }
      ]
    },
    {
      "cell_type": "markdown",
      "metadata": {
        "id": "9STYVnI74YCs"
      },
      "source": [
        "**Train Test Split**"
      ]
    },
    {
      "cell_type": "code",
      "metadata": {
        "id": "tOOJrdmd4V8w",
        "colab": {
          "base_uri": "https://localhost:8080/"
        },
        "outputId": "96183033-aa49-40e2-ce0a-e6221eb4b964"
      },
      "source": [
        "# # split a dataset into train and test sets\n",
        "from sklearn.model_selection import train_test_split\n",
        "\n",
        "# split into train test sets\n",
        "X_train, X_test, Y_train, Y_test = train_test_split(X, Y, test_size=0.33, random_state=64)\n",
        "\n",
        "print(X_train.shape, X_test.shape, Y_train.shape, Y_test.shape)\n",
        "Y_train\n"
      ],
      "execution_count": 4,
      "outputs": [
        {
          "output_type": "stream",
          "text": [
            "(2010, 128, 1) (990, 128, 1) (2010, 3) (990, 3)\n"
          ],
          "name": "stdout"
        },
        {
          "output_type": "execute_result",
          "data": {
            "text/plain": [
              "array([[0, 0, 1],\n",
              "       [0, 0, 1],\n",
              "       [1, 0, 0],\n",
              "       ...,\n",
              "       [0, 0, 1],\n",
              "       [0, 1, 0],\n",
              "       [0, 0, 1]], dtype=uint8)"
            ]
          },
          "metadata": {
            "tags": []
          },
          "execution_count": 4
        }
      ]
    },
    {
      "cell_type": "markdown",
      "metadata": {
        "id": "8TZSo6vpFbIJ"
      },
      "source": [
        "**LSTM Model**"
      ]
    },
    {
      "cell_type": "code",
      "metadata": {
        "id": "PBZfmiraFd8C",
        "colab": {
          "base_uri": "https://localhost:8080/"
        },
        "outputId": "156698ba-196c-4b78-b43a-c4f7d45aef35"
      },
      "source": [
        "model = Sequential()\n",
        "\n",
        "model.add(LSTM(64, input_shape=(128, 1))) # Use 50 units for 0.82 accuracy\n",
        "# model.add(LSTM(256, return_sequences=True))\n",
        "# model.add(LSTM(128, return_sequences=True))\n",
        "# model.add(LSTM(64, return_sequences=True))\n",
        "# model.add(LSTM(32))\n",
        "opt = optimizers.Adam(learning_rate = 0.0002)\n",
        "\n",
        "model.add(Dense(3))\n",
        "model.add(Activation('softmax'))\n",
        "\n",
        "# model.compile(optimizer=opt, loss='categorical_crossentropy', metrics=['accuracy'])\n",
        "model.compile(loss='categorical_crossentropy',\n",
        "              optimizer=opt,\n",
        "              metrics=['accuracy'])\n",
        "\n",
        "print(model.summary())"
      ],
      "execution_count": 5,
      "outputs": [
        {
          "output_type": "stream",
          "text": [
            "Model: \"sequential\"\n",
            "_________________________________________________________________\n",
            "Layer (type)                 Output Shape              Param #   \n",
            "=================================================================\n",
            "lstm (LSTM)                  (None, 64)                16896     \n",
            "_________________________________________________________________\n",
            "dense (Dense)                (None, 3)                 195       \n",
            "_________________________________________________________________\n",
            "activation (Activation)      (None, 3)                 0         \n",
            "=================================================================\n",
            "Total params: 17,091\n",
            "Trainable params: 17,091\n",
            "Non-trainable params: 0\n",
            "_________________________________________________________________\n",
            "None\n"
          ],
          "name": "stdout"
        }
      ]
    },
    {
      "cell_type": "markdown",
      "metadata": {
        "id": "hnrZLgaNFhMT"
      },
      "source": [
        "**Training (Given dataset)**"
      ]
    },
    {
      "cell_type": "code",
      "metadata": {
        "id": "pGj0IgPbFk23",
        "colab": {
          "base_uri": "https://localhost:8080/"
        },
        "outputId": "e523287c-6ea8-48ca-ca49-403c44a9665d"
      },
      "source": [
        "history=model.fit(X_train, Y_train, epochs=100, validation_split=0.2,batch_size=16, verbose=1)\n",
        "# history=model.fit(X_train, Y_train, epochs=100, validation_split=0.2,batch_size=16, verbose=1\n"
      ],
      "execution_count": 6,
      "outputs": [
        {
          "output_type": "stream",
          "text": [
            "Epoch 1/100\n",
            "101/101 [==============================] - 24s 66ms/step - loss: 1.0985 - accuracy: 0.3468 - val_loss: 1.0990 - val_accuracy: 0.3259\n",
            "Epoch 2/100\n",
            "101/101 [==============================] - 6s 57ms/step - loss: 1.0994 - accuracy: 0.3029 - val_loss: 1.0984 - val_accuracy: 0.3507\n",
            "Epoch 3/100\n",
            "101/101 [==============================] - 6s 57ms/step - loss: 1.0989 - accuracy: 0.3244 - val_loss: 1.0989 - val_accuracy: 0.3234\n",
            "Epoch 4/100\n",
            "101/101 [==============================] - 6s 57ms/step - loss: 1.0992 - accuracy: 0.3212 - val_loss: 1.0980 - val_accuracy: 0.3507\n",
            "Epoch 5/100\n",
            "101/101 [==============================] - 6s 58ms/step - loss: 1.0988 - accuracy: 0.3420 - val_loss: 1.0982 - val_accuracy: 0.3259\n",
            "Epoch 6/100\n",
            "101/101 [==============================] - 6s 58ms/step - loss: 1.0992 - accuracy: 0.3250 - val_loss: 1.0977 - val_accuracy: 0.3507\n",
            "Epoch 7/100\n",
            "101/101 [==============================] - 6s 58ms/step - loss: 1.0986 - accuracy: 0.3251 - val_loss: 1.0976 - val_accuracy: 0.3507\n",
            "Epoch 8/100\n",
            "101/101 [==============================] - 6s 57ms/step - loss: 1.0986 - accuracy: 0.3407 - val_loss: 1.0981 - val_accuracy: 0.3259\n",
            "Epoch 9/100\n",
            "101/101 [==============================] - 6s 55ms/step - loss: 1.0980 - accuracy: 0.3529 - val_loss: 1.0972 - val_accuracy: 0.3507\n",
            "Epoch 10/100\n",
            "101/101 [==============================] - 6s 56ms/step - loss: 1.0979 - accuracy: 0.3692 - val_loss: 1.0973 - val_accuracy: 0.3259\n",
            "Epoch 11/100\n",
            "101/101 [==============================] - 6s 57ms/step - loss: 1.0980 - accuracy: 0.3931 - val_loss: 1.0935 - val_accuracy: 0.3259\n",
            "Epoch 12/100\n",
            "101/101 [==============================] - 6s 56ms/step - loss: 1.0938 - accuracy: 0.3669 - val_loss: 1.0966 - val_accuracy: 0.3507\n",
            "Epoch 13/100\n",
            "101/101 [==============================] - 6s 56ms/step - loss: 1.0990 - accuracy: 0.3202 - val_loss: 1.0959 - val_accuracy: 0.3507\n",
            "Epoch 14/100\n",
            "101/101 [==============================] - 6s 55ms/step - loss: 1.0961 - accuracy: 0.3486 - val_loss: 1.0957 - val_accuracy: 0.3507\n",
            "Epoch 15/100\n",
            "101/101 [==============================] - 6s 56ms/step - loss: 1.0750 - accuracy: 0.5403 - val_loss: 0.6520 - val_accuracy: 0.7363\n",
            "Epoch 16/100\n",
            "101/101 [==============================] - 6s 58ms/step - loss: 0.6544 - accuracy: 0.7006 - val_loss: 0.5235 - val_accuracy: 0.7637\n",
            "Epoch 17/100\n",
            "101/101 [==============================] - 6s 57ms/step - loss: 0.5411 - accuracy: 0.7312 - val_loss: 0.7205 - val_accuracy: 0.6493\n",
            "Epoch 18/100\n",
            "101/101 [==============================] - 6s 57ms/step - loss: 0.5686 - accuracy: 0.7333 - val_loss: 0.5265 - val_accuracy: 0.7289\n",
            "Epoch 19/100\n",
            "101/101 [==============================] - 6s 58ms/step - loss: 0.5128 - accuracy: 0.7585 - val_loss: 0.4465 - val_accuracy: 0.7861\n",
            "Epoch 20/100\n",
            "101/101 [==============================] - 6s 58ms/step - loss: 0.5453 - accuracy: 0.7473 - val_loss: 0.5072 - val_accuracy: 0.7413\n",
            "Epoch 21/100\n",
            "101/101 [==============================] - 6s 57ms/step - loss: 0.5369 - accuracy: 0.7390 - val_loss: 0.6774 - val_accuracy: 0.6567\n",
            "Epoch 22/100\n",
            "101/101 [==============================] - 6s 56ms/step - loss: 0.5112 - accuracy: 0.7464 - val_loss: 0.3890 - val_accuracy: 0.8109\n",
            "Epoch 23/100\n",
            "101/101 [==============================] - 6s 57ms/step - loss: 0.4922 - accuracy: 0.7667 - val_loss: 0.4428 - val_accuracy: 0.7711\n",
            "Epoch 24/100\n",
            "101/101 [==============================] - 6s 58ms/step - loss: 0.4247 - accuracy: 0.7966 - val_loss: 0.4616 - val_accuracy: 0.8109\n",
            "Epoch 25/100\n",
            "101/101 [==============================] - 6s 57ms/step - loss: 0.4258 - accuracy: 0.8053 - val_loss: 0.4033 - val_accuracy: 0.7886\n",
            "Epoch 26/100\n",
            "101/101 [==============================] - 6s 57ms/step - loss: 0.4452 - accuracy: 0.7872 - val_loss: 0.3808 - val_accuracy: 0.8109\n",
            "Epoch 27/100\n",
            "101/101 [==============================] - 6s 57ms/step - loss: 0.4764 - accuracy: 0.7598 - val_loss: 0.3904 - val_accuracy: 0.7910\n",
            "Epoch 28/100\n",
            "101/101 [==============================] - 6s 57ms/step - loss: 0.4105 - accuracy: 0.8043 - val_loss: 0.3780 - val_accuracy: 0.8060\n",
            "Epoch 29/100\n",
            "101/101 [==============================] - 6s 57ms/step - loss: 0.4197 - accuracy: 0.7944 - val_loss: 0.3950 - val_accuracy: 0.8060\n",
            "Epoch 30/100\n",
            "101/101 [==============================] - 6s 57ms/step - loss: 0.4133 - accuracy: 0.7865 - val_loss: 0.3871 - val_accuracy: 0.7935\n",
            "Epoch 31/100\n",
            "101/101 [==============================] - 6s 57ms/step - loss: 0.4098 - accuracy: 0.7914 - val_loss: 0.5566 - val_accuracy: 0.7313\n",
            "Epoch 32/100\n",
            "101/101 [==============================] - 6s 58ms/step - loss: 0.4571 - accuracy: 0.7672 - val_loss: 0.4195 - val_accuracy: 0.7786\n",
            "Epoch 33/100\n",
            "101/101 [==============================] - 6s 59ms/step - loss: 0.4500 - accuracy: 0.7738 - val_loss: 0.3751 - val_accuracy: 0.8134\n",
            "Epoch 34/100\n",
            "101/101 [==============================] - 6s 57ms/step - loss: 0.4047 - accuracy: 0.8070 - val_loss: 0.4085 - val_accuracy: 0.8159\n",
            "Epoch 35/100\n",
            "101/101 [==============================] - 6s 58ms/step - loss: 0.4059 - accuracy: 0.8033 - val_loss: 0.4006 - val_accuracy: 0.7886\n",
            "Epoch 36/100\n",
            "101/101 [==============================] - 6s 58ms/step - loss: 0.4186 - accuracy: 0.8007 - val_loss: 0.4072 - val_accuracy: 0.7861\n",
            "Epoch 37/100\n",
            "101/101 [==============================] - 6s 57ms/step - loss: 0.4270 - accuracy: 0.7934 - val_loss: 0.3783 - val_accuracy: 0.8109\n",
            "Epoch 38/100\n",
            "101/101 [==============================] - 6s 58ms/step - loss: 0.4005 - accuracy: 0.7991 - val_loss: 0.3777 - val_accuracy: 0.8085\n",
            "Epoch 39/100\n",
            "101/101 [==============================] - 6s 57ms/step - loss: 0.4176 - accuracy: 0.7783 - val_loss: 0.3733 - val_accuracy: 0.8010\n",
            "Epoch 40/100\n",
            "101/101 [==============================] - 6s 58ms/step - loss: 0.3790 - accuracy: 0.8163 - val_loss: 0.7806 - val_accuracy: 0.6841\n",
            "Epoch 41/100\n",
            "101/101 [==============================] - 6s 57ms/step - loss: 0.4726 - accuracy: 0.7787 - val_loss: 0.3734 - val_accuracy: 0.8010\n",
            "Epoch 42/100\n",
            "101/101 [==============================] - 6s 57ms/step - loss: 0.4379 - accuracy: 0.7812 - val_loss: 0.3786 - val_accuracy: 0.8134\n",
            "Epoch 43/100\n",
            "101/101 [==============================] - 6s 58ms/step - loss: 0.4051 - accuracy: 0.7963 - val_loss: 0.3812 - val_accuracy: 0.8159\n",
            "Epoch 44/100\n",
            "101/101 [==============================] - 6s 57ms/step - loss: 0.3900 - accuracy: 0.8047 - val_loss: 0.4009 - val_accuracy: 0.8134\n",
            "Epoch 45/100\n",
            "101/101 [==============================] - 6s 57ms/step - loss: 0.4077 - accuracy: 0.7956 - val_loss: 0.3690 - val_accuracy: 0.8010\n",
            "Epoch 46/100\n",
            "101/101 [==============================] - 6s 56ms/step - loss: 0.4288 - accuracy: 0.7904 - val_loss: 0.3867 - val_accuracy: 0.8109\n",
            "Epoch 47/100\n",
            "101/101 [==============================] - 6s 58ms/step - loss: 0.4022 - accuracy: 0.7863 - val_loss: 0.3783 - val_accuracy: 0.8159\n",
            "Epoch 48/100\n",
            "101/101 [==============================] - 6s 56ms/step - loss: 0.4008 - accuracy: 0.8013 - val_loss: 0.3830 - val_accuracy: 0.8109\n",
            "Epoch 49/100\n",
            "101/101 [==============================] - 6s 57ms/step - loss: 0.5764 - accuracy: 0.7293 - val_loss: 0.3843 - val_accuracy: 0.8134\n",
            "Epoch 50/100\n",
            "101/101 [==============================] - 6s 56ms/step - loss: 0.4091 - accuracy: 0.8055 - val_loss: 0.4016 - val_accuracy: 0.7811\n",
            "Epoch 51/100\n",
            "101/101 [==============================] - 6s 56ms/step - loss: 0.4016 - accuracy: 0.8065 - val_loss: 0.3767 - val_accuracy: 0.8085\n",
            "Epoch 52/100\n",
            "101/101 [==============================] - 6s 57ms/step - loss: 0.3941 - accuracy: 0.8092 - val_loss: 0.3717 - val_accuracy: 0.8184\n",
            "Epoch 53/100\n",
            "101/101 [==============================] - 6s 57ms/step - loss: 0.4021 - accuracy: 0.7940 - val_loss: 0.3972 - val_accuracy: 0.8010\n",
            "Epoch 54/100\n",
            "101/101 [==============================] - 6s 57ms/step - loss: 0.4250 - accuracy: 0.7923 - val_loss: 0.3709 - val_accuracy: 0.8085\n",
            "Epoch 55/100\n",
            "101/101 [==============================] - 6s 57ms/step - loss: 0.4016 - accuracy: 0.7957 - val_loss: 0.3726 - val_accuracy: 0.7935\n",
            "Epoch 56/100\n",
            "101/101 [==============================] - 6s 57ms/step - loss: 0.3723 - accuracy: 0.8273 - val_loss: 0.3689 - val_accuracy: 0.8134\n",
            "Epoch 57/100\n",
            "101/101 [==============================] - 6s 58ms/step - loss: 0.3889 - accuracy: 0.8033 - val_loss: 0.3924 - val_accuracy: 0.8134\n",
            "Epoch 58/100\n",
            "101/101 [==============================] - 6s 60ms/step - loss: 0.4150 - accuracy: 0.8062 - val_loss: 0.3702 - val_accuracy: 0.7985\n",
            "Epoch 59/100\n",
            "101/101 [==============================] - 6s 59ms/step - loss: 0.3896 - accuracy: 0.8262 - val_loss: 0.4488 - val_accuracy: 0.7662\n",
            "Epoch 60/100\n",
            "101/101 [==============================] - 6s 58ms/step - loss: 0.4631 - accuracy: 0.7712 - val_loss: 0.3792 - val_accuracy: 0.7886\n",
            "Epoch 61/100\n",
            "101/101 [==============================] - 6s 58ms/step - loss: 0.4086 - accuracy: 0.8059 - val_loss: 0.3677 - val_accuracy: 0.8134\n",
            "Epoch 62/100\n",
            "101/101 [==============================] - 6s 59ms/step - loss: 0.3937 - accuracy: 0.8010 - val_loss: 0.3697 - val_accuracy: 0.8159\n",
            "Epoch 63/100\n",
            "101/101 [==============================] - 6s 59ms/step - loss: 0.3638 - accuracy: 0.8248 - val_loss: 0.3746 - val_accuracy: 0.7960\n",
            "Epoch 64/100\n",
            "101/101 [==============================] - 6s 59ms/step - loss: 0.4150 - accuracy: 0.7858 - val_loss: 0.4073 - val_accuracy: 0.8134\n",
            "Epoch 65/100\n",
            "101/101 [==============================] - 6s 59ms/step - loss: 0.3750 - accuracy: 0.8167 - val_loss: 0.3891 - val_accuracy: 0.7960\n",
            "Epoch 66/100\n",
            "101/101 [==============================] - 6s 59ms/step - loss: 0.3907 - accuracy: 0.8055 - val_loss: 0.3750 - val_accuracy: 0.7985\n",
            "Epoch 67/100\n",
            "101/101 [==============================] - 6s 59ms/step - loss: 0.4165 - accuracy: 0.7974 - val_loss: 0.3769 - val_accuracy: 0.8159\n",
            "Epoch 68/100\n",
            "101/101 [==============================] - 6s 58ms/step - loss: 0.3927 - accuracy: 0.8105 - val_loss: 0.3736 - val_accuracy: 0.8109\n",
            "Epoch 69/100\n",
            "101/101 [==============================] - 6s 59ms/step - loss: 0.4605 - accuracy: 0.7988 - val_loss: 0.3825 - val_accuracy: 0.8159\n",
            "Epoch 70/100\n",
            "101/101 [==============================] - 6s 58ms/step - loss: 0.3925 - accuracy: 0.8138 - val_loss: 0.3706 - val_accuracy: 0.8159\n",
            "Epoch 71/100\n",
            "101/101 [==============================] - 6s 59ms/step - loss: 0.4692 - accuracy: 0.7850 - val_loss: 0.3899 - val_accuracy: 0.7985\n",
            "Epoch 72/100\n",
            "101/101 [==============================] - 6s 59ms/step - loss: 0.4104 - accuracy: 0.7922 - val_loss: 0.3678 - val_accuracy: 0.8060\n",
            "Epoch 73/100\n",
            "101/101 [==============================] - 6s 59ms/step - loss: 0.3877 - accuracy: 0.8097 - val_loss: 0.3862 - val_accuracy: 0.8060\n",
            "Epoch 74/100\n",
            "101/101 [==============================] - 6s 58ms/step - loss: 0.4026 - accuracy: 0.8012 - val_loss: 0.3951 - val_accuracy: 0.8010\n",
            "Epoch 75/100\n",
            "101/101 [==============================] - 6s 58ms/step - loss: 0.3872 - accuracy: 0.8154 - val_loss: 0.3672 - val_accuracy: 0.8134\n",
            "Epoch 76/100\n",
            "101/101 [==============================] - 6s 58ms/step - loss: 0.4015 - accuracy: 0.8120 - val_loss: 0.3657 - val_accuracy: 0.8134\n",
            "Epoch 77/100\n",
            "101/101 [==============================] - 6s 58ms/step - loss: 0.3774 - accuracy: 0.8160 - val_loss: 0.3655 - val_accuracy: 0.8159\n",
            "Epoch 78/100\n",
            "101/101 [==============================] - 6s 59ms/step - loss: 0.3985 - accuracy: 0.8073 - val_loss: 0.4010 - val_accuracy: 0.8134\n",
            "Epoch 79/100\n",
            "101/101 [==============================] - 6s 58ms/step - loss: 0.4082 - accuracy: 0.7967 - val_loss: 0.3903 - val_accuracy: 0.8060\n",
            "Epoch 80/100\n",
            "101/101 [==============================] - 6s 58ms/step - loss: 0.4003 - accuracy: 0.8030 - val_loss: 0.3755 - val_accuracy: 0.8109\n",
            "Epoch 81/100\n",
            "101/101 [==============================] - 6s 57ms/step - loss: 0.3824 - accuracy: 0.8146 - val_loss: 0.4247 - val_accuracy: 0.7861\n",
            "Epoch 82/100\n",
            "101/101 [==============================] - 6s 57ms/step - loss: 0.4345 - accuracy: 0.7996 - val_loss: 0.4157 - val_accuracy: 0.7861\n",
            "Epoch 83/100\n",
            "101/101 [==============================] - 6s 59ms/step - loss: 0.4081 - accuracy: 0.8020 - val_loss: 0.3876 - val_accuracy: 0.7960\n",
            "Epoch 84/100\n",
            "101/101 [==============================] - 6s 57ms/step - loss: 0.3976 - accuracy: 0.7947 - val_loss: 0.3669 - val_accuracy: 0.8060\n",
            "Epoch 85/100\n",
            "101/101 [==============================] - 6s 57ms/step - loss: 0.3886 - accuracy: 0.8075 - val_loss: 0.3705 - val_accuracy: 0.7985\n",
            "Epoch 86/100\n",
            "101/101 [==============================] - 6s 57ms/step - loss: 0.3856 - accuracy: 0.8096 - val_loss: 0.3665 - val_accuracy: 0.7960\n",
            "Epoch 87/100\n",
            "101/101 [==============================] - 6s 57ms/step - loss: 0.3878 - accuracy: 0.8084 - val_loss: 0.3689 - val_accuracy: 0.8010\n",
            "Epoch 88/100\n",
            "101/101 [==============================] - 6s 57ms/step - loss: 0.3837 - accuracy: 0.8133 - val_loss: 0.3686 - val_accuracy: 0.8134\n",
            "Epoch 89/100\n",
            "101/101 [==============================] - 6s 57ms/step - loss: 0.3912 - accuracy: 0.8030 - val_loss: 0.3911 - val_accuracy: 0.8085\n",
            "Epoch 90/100\n",
            "101/101 [==============================] - 6s 57ms/step - loss: 0.3957 - accuracy: 0.8102 - val_loss: 0.3869 - val_accuracy: 0.8109\n",
            "Epoch 91/100\n",
            "101/101 [==============================] - 6s 55ms/step - loss: 0.3884 - accuracy: 0.8176 - val_loss: 0.3697 - val_accuracy: 0.8109\n",
            "Epoch 92/100\n",
            "101/101 [==============================] - 6s 57ms/step - loss: 0.3900 - accuracy: 0.7867 - val_loss: 0.3694 - val_accuracy: 0.8159\n",
            "Epoch 93/100\n",
            "101/101 [==============================] - 6s 57ms/step - loss: 0.3871 - accuracy: 0.8061 - val_loss: 0.3865 - val_accuracy: 0.8010\n",
            "Epoch 94/100\n",
            "101/101 [==============================] - 6s 57ms/step - loss: 0.4013 - accuracy: 0.8112 - val_loss: 0.4126 - val_accuracy: 0.7910\n",
            "Epoch 95/100\n",
            "101/101 [==============================] - 6s 58ms/step - loss: 0.3991 - accuracy: 0.8095 - val_loss: 0.4032 - val_accuracy: 0.8134\n",
            "Epoch 96/100\n",
            "101/101 [==============================] - 6s 58ms/step - loss: 0.3871 - accuracy: 0.8191 - val_loss: 0.3869 - val_accuracy: 0.8060\n",
            "Epoch 97/100\n",
            "101/101 [==============================] - 6s 56ms/step - loss: 0.3923 - accuracy: 0.8172 - val_loss: 0.3694 - val_accuracy: 0.7985\n",
            "Epoch 98/100\n",
            "101/101 [==============================] - 6s 57ms/step - loss: 0.3701 - accuracy: 0.8167 - val_loss: 0.3795 - val_accuracy: 0.8109\n",
            "Epoch 99/100\n",
            "101/101 [==============================] - 6s 59ms/step - loss: 0.4003 - accuracy: 0.8131 - val_loss: 0.3831 - val_accuracy: 0.7910\n",
            "Epoch 100/100\n",
            "101/101 [==============================] - 6s 58ms/step - loss: 0.4128 - accuracy: 0.7880 - val_loss: 0.3975 - val_accuracy: 0.8010\n"
          ],
          "name": "stdout"
        }
      ]
    },
    {
      "cell_type": "markdown",
      "metadata": {
        "id": "JgNy3W6HFnr3"
      },
      "source": [
        "**Testing (test input)**"
      ]
    },
    {
      "cell_type": "code",
      "metadata": {
        "id": "WKVMFko3F4cn",
        "colab": {
          "base_uri": "https://localhost:8080/"
        },
        "outputId": "23887313-f14e-43f5-e0b0-0e87d90f0fe1"
      },
      "source": [
        "from matplotlib import pyplot as plt\n",
        "import tensorflow as tf\n",
        "# print(len(Y_test))\n",
        "pred=model.predict(X_test)\n",
        "\n",
        "print ('test loss, test acc:', model.evaluate(X_test, Y_test))\n"
      ],
      "execution_count": 7,
      "outputs": [
        {
          "output_type": "stream",
          "text": [
            "31/31 [==============================] - 1s 18ms/step - loss: 0.3881 - accuracy: 0.8121\n",
            "test loss, test acc: [0.3881269693374634, 0.8121212124824524]\n"
          ],
          "name": "stdout"
        }
      ]
    },
    {
      "cell_type": "markdown",
      "metadata": {
        "id": "70D4MiYzKBFD"
      },
      "source": [
        "**Graphs**"
      ]
    },
    {
      "cell_type": "code",
      "metadata": {
        "colab": {
          "base_uri": "https://localhost:8080/",
          "height": 295
        },
        "id": "mrdP3xoMKC30",
        "outputId": "ead49d9f-0caf-4af0-8e48-ac13610e3926"
      },
      "source": [
        "loss_train = history.history['accuracy']\n",
        "loss_val = history.history['val_accuracy']\n",
        "\n",
        "\n",
        "\n",
        "epochs = range(1,101)\n",
        "plt.plot(epochs, loss_train, 'g', label='Training accuracy ')\n",
        "plt.plot(epochs, loss_val, 'b', label='Validation accuracy')\n",
        "# plt.plot(epochs, loss_train1, 'g', label='Training accuracy(Demo 1)')\n",
        "# plt.plot(epochs, loss_val1, 'b', label='validation accuracy(Demo 1)')\n",
        "plt.title('Training and Validation accuracy')\n",
        "plt.xlabel('Epochs')\n",
        "plt.ylabel('Accuracy')\n",
        "plt.legend()\n",
        "plt.show()"
      ],
      "execution_count": 9,
      "outputs": [
        {
          "output_type": "display_data",
          "data": {
            "image/png": "[encoded data removed]",
            "text/plain": [
              "<Figure size 432x288 with 1 Axes>"
            ]
          },
          "metadata": {
            "tags": [],
            "needs_background": "light"
          }
        }
      ]
    }
  ]
}